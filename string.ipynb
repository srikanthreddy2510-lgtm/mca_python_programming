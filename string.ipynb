{
 "cells": [
  {
   "cell_type": "markdown",
   "id": "8c63f794",
   "metadata": {},
   "source": [
    "### STRING  \n",
    "    In Python, to store any kind of textual information we use string. There is no other type of store text"
   ]
  },
  {
   "cell_type": "code",
   "execution_count": 7,
   "id": "2e391529",
   "metadata": {},
   "outputs": [
    {
     "name": "stdout",
     "output_type": "stream",
     "text": [
      "apple\n",
      "Banana\n",
      "\"This is chocolate cake\"\n"
     ]
    }
   ],
   "source": [
    "### string creation\n",
    "a = 'apple'\n",
    "b = \"Banana\"\n",
    "c = '\"This is ' \\\n",
    "'chocolate ' \\\n",
    "'cake\"'\n",
    "print(a)\n",
    "print(b)\n",
    "print(c)"
   ]
  },
  {
   "cell_type": "code",
   "execution_count": 5,
   "id": "6a5b3d9e",
   "metadata": {},
   "outputs": [
    {
     "name": "stdout",
     "output_type": "stream",
     "text": [
      "10 <class 'str'>\n",
      "['apple', 'Banana'] <class 'str'>\n"
     ]
    }
   ],
   "source": [
    "### type creating\n",
    "x = str(10)\n",
    "y = str([\"apple\", \"Banana\"])\n",
    "print(x, type(x))\n",
    "print(y, type(y))"
   ]
  },
  {
   "cell_type": "code",
   "execution_count": 9,
   "id": "7083b44e",
   "metadata": {},
   "outputs": [
    {
     "name": "stdout",
     "output_type": "stream",
     "text": [
      "a\n"
     ]
    },
    {
     "ename": "TypeError",
     "evalue": "'str' object does not support item assignment",
     "output_type": "error",
     "traceback": [
      "\u001b[31m---------------------------------------------------------------------------\u001b[39m",
      "\u001b[31mTypeError\u001b[39m                                 Traceback (most recent call last)",
      "\u001b[36mCell\u001b[39m\u001b[36m \u001b[39m\u001b[32mIn[9]\u001b[39m\u001b[32m, line 2\u001b[39m\n\u001b[32m      1\u001b[39m \u001b[38;5;28mprint\u001b[39m(a[\u001b[32m0\u001b[39m])\n\u001b[32m----> \u001b[39m\u001b[32m2\u001b[39m \u001b[43ma\u001b[49m\u001b[43m[\u001b[49m\u001b[32;43m0\u001b[39;49m\u001b[43m]\u001b[49m=\u001b[33m'\u001b[39m\u001b[33mc\u001b[39m\u001b[33m'\u001b[39m    \u001b[38;5;66;03m#strings are immutable\u001b[39;00m\n",
      "\u001b[31mTypeError\u001b[39m: 'str' object does not support item assignment"
     ]
    }
   ],
   "source": [
    "print(a[0])\n",
    "a[0]='c'    #strings are immutable"
   ]
  },
  {
   "cell_type": "code",
   "execution_count": 14,
   "id": "8f3ba4e1",
   "metadata": {},
   "outputs": [
    {
     "name": "stdout",
     "output_type": "stream",
     "text": [
      "The point is, I am not disappointed\n"
     ]
    }
   ],
   "source": [
    "# Slicing & Indexing\n",
    "x = 'disappointed'\n",
    "y=x[5:10]\n",
    "print(f\"The {y} is, I am not {x}\")"
   ]
  },
  {
   "cell_type": "code",
   "execution_count": 35,
   "id": "12b164db",
   "metadata": {},
   "outputs": [
    {
     "name": "stdout",
     "output_type": "stream",
     "text": [
      "Jhonny Jhonny yes papa\n"
     ]
    }
   ],
   "source": [
    "poem = '''Jhonny Jhonny yes papa\n",
    "Eating sugar, No papa\n",
    "Telling lies, No papa\n",
    "Open your mouth Ha Haa Haaa'''\n",
    "y = poem[0:22]\n",
    "print(y)\n"
   ]
  },
  {
   "cell_type": "markdown",
   "id": "952c07dc",
   "metadata": {},
   "source": [
    "String Functions    \n",
    "Formatting \n"
   ]
  },
  {
   "cell_type": "code",
   "execution_count": null,
   "id": "bddcc11b",
   "metadata": {},
   "outputs": [
    {
     "name": "stdout",
     "output_type": "stream",
     "text": [
      "Maintain silence in Library\n",
      "MAINTAIN SILENCE IN LIBRARY\n"
     ]
    }
   ],
   "source": [
    "s =\"Maintain silence in Library\"\n",
    "supper = s.upper()\n",
    "print(s)\n",
    "print(supper)"
   ]
  },
  {
   "cell_type": "code",
   "execution_count": null,
   "id": "3ce6792a",
   "metadata": {},
   "outputs": [
    {
     "name": "stdout",
     "output_type": "stream",
     "text": [
      "maintain silence in Library\n",
      "maintain silence in library\n"
     ]
    }
   ],
   "source": [
    "s =\"Maintain silence in Library\"\n",
    "supper = s.casefold()\n",
    "print(s)\n",
    "print(supper)"
   ]
  },
  {
   "cell_type": "code",
   "execution_count": null,
   "id": "bc2de7e3",
   "metadata": {},
   "outputs": [
    {
     "name": "stdout",
     "output_type": "stream",
     "text": [
      "Maintain silence in Library\n",
      "maintain silence in library\n"
     ]
    }
   ],
   "source": [
    "s =\"Maintain silence in Library\"\n",
    "supper = s.lower()\n",
    "print(s)\n",
    "print(supper)"
   ]
  },
  {
   "cell_type": "code",
   "execution_count": 15,
   "id": "f2713a92",
   "metadata": {},
   "outputs": [
    {
     "name": "stdout",
     "output_type": "stream",
     "text": [
      "Maintain silence in Library\n",
      "mAINTAIN SILENCE IN lIBRARY\n"
     ]
    }
   ],
   "source": [
    "s =\"Maintain silence in Library\"\n",
    "supper = s.swapcase()\n",
    "print(s)\n",
    "print(supper)"
   ]
  },
  {
   "cell_type": "code",
   "execution_count": 13,
   "id": "d6fd0764",
   "metadata": {},
   "outputs": [
    {
     "name": "stdout",
     "output_type": "stream",
     "text": [
      "Maintain silence in Library\n",
      "Maintain silence in library\n"
     ]
    }
   ],
   "source": [
    "s =\"Maintain silence in Library\"\n",
    "supper = s.capitalize()\n",
    "print(s)\n",
    "print(supper)"
   ]
  },
  {
   "cell_type": "code",
   "execution_count": 16,
   "id": "9b273fed",
   "metadata": {},
   "outputs": [
    {
     "name": "stdout",
     "output_type": "stream",
     "text": [
      "Maintain silence in Library\n",
      "Maintain Silence In Library\n"
     ]
    }
   ],
   "source": [
    "s =\"Maintain silence in Library\"\n",
    "suppen = s.title()\n",
    "print(s)\n",
    "print(suppen)"
   ]
  },
  {
   "cell_type": "code",
   "execution_count": 4,
   "id": "7547567f",
   "metadata": {},
   "outputs": [
    {
     "name": "stdout",
     "output_type": "stream",
     "text": [
      "Seven\n",
      "Seven     \n",
      "Seven-----\n",
      "               Seven\n",
      "|||||||||||||||Seven\n",
      "    Seven    \n",
      "****Seven****\n"
     ]
    }
   ],
   "source": [
    "a = \"Seven\"\n",
    "a1=a.ljust(10)\n",
    "print(a)\n",
    "print(a1)\n",
    "a2 = a.ljust(10 ,'-')\n",
    "print(a2)\n",
    "a3 = a.rjust(20)\n",
    "a4 = a.rjust(20,\"|\")\n",
    "a5 = a.center(13)\n",
    "a6 = a.center(13, \"*\")\n",
    "print(a3, a4, a5, a6, sep='\\n')"
   ]
  },
  {
   "cell_type": "code",
   "execution_count": 5,
   "id": "5fc3f8e5",
   "metadata": {},
   "outputs": [
    {
     "name": "stdout",
     "output_type": "stream",
     "text": [
      "               Seven\n"
     ]
    }
   ],
   "source": [
    "a3 = a.rjust(20)\n",
    "print(a3)"
   ]
  },
  {
   "cell_type": "code",
   "execution_count": 6,
   "id": "495c46e5",
   "metadata": {},
   "outputs": [
    {
     "name": "stdout",
     "output_type": "stream",
     "text": [
      "|||||||||||||||Seven\n"
     ]
    }
   ],
   "source": [
    "a4 = a.rjust(20,\"|\")\n",
    "print(a4)"
   ]
  },
  {
   "cell_type": "code",
   "execution_count": 7,
   "id": "820a84e7",
   "metadata": {},
   "outputs": [
    {
     "name": "stdout",
     "output_type": "stream",
     "text": [
      "    Seven    \n"
     ]
    }
   ],
   "source": [
    "a5 = a.center(13)\n",
    "print(a5)"
   ]
  },
  {
   "cell_type": "code",
   "execution_count": 33,
   "id": "983ec920",
   "metadata": {},
   "outputs": [
    {
     "name": "stdout",
     "output_type": "stream",
     "text": [
      "****Seven****\n"
     ]
    }
   ],
   "source": [
    "a6 = a.center(13, \"*\")\n",
    "print(a6)"
   ]
  },
  {
   "cell_type": "code",
   "execution_count": 10,
   "id": "0a3eb14e",
   "metadata": {},
   "outputs": [
    {
     "name": "stdout",
     "output_type": "stream",
     "text": [
      "True\n",
      "True\n",
      "False\n",
      "False\n"
     ]
    }
   ],
   "source": [
    "x = input()\n",
    "print(x.isalpha())\n",
    "print(x.isalnum())\n",
    "print(x.isdigit())\n",
    "print(x.isspace())"
   ]
  },
  {
   "cell_type": "code",
   "execution_count": 11,
   "id": "754343d3",
   "metadata": {},
   "outputs": [
    {
     "name": "stdout",
     "output_type": "stream",
     "text": [
      "hello\n",
      "False\n",
      "True\n",
      "False\n"
     ]
    }
   ],
   "source": [
    "a = input()\n",
    "a1 = a.startswith(\"a\")\n",
    "a2 = a.startswith(\"hello\")\n",
    "a3 = a.startswith(\"b\")\n",
    "print(a, a1, a2, a3, sep=\"\\n\")"
   ]
  },
  {
   "cell_type": "code",
   "execution_count": null,
   "id": "0946d412",
   "metadata": {},
   "outputs": [],
   "source": []
  }
 ],
 "metadata": {
  "kernelspec": {
   "display_name": "Python 3",
   "language": "python",
   "name": "python3"
  },
  "language_info": {
   "codemirror_mode": {
    "name": "ipython",
    "version": 3
   },
   "file_extension": ".py",
   "mimetype": "text/x-python",
   "name": "python",
   "nbconvert_exporter": "python",
   "pygments_lexer": "ipython3",
   "version": "3.11.4"
  }
 },
 "nbformat": 4,
 "nbformat_minor": 5
}
