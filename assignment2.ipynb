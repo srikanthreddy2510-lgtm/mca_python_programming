{
 "cells": [
  {
   "cell_type": "markdown",
   "id": "23b2be02",
   "metadata": {},
   "source": [
    "### 1. Age checker"
   ]
  },
  {
   "cell_type": "code",
   "execution_count": 1,
   "id": "c1f2f148",
   "metadata": {},
   "outputs": [
    {
     "name": "stdout",
     "output_type": "stream",
     "text": [
      "Adult\n"
     ]
    }
   ],
   "source": [
    "age = int(input(\"Enter age: \"))\n",
    "if age >= 18:\n",
    "    print(\"Adult\")\n",
    "else:\n",
    "    print(\"Minor\")\n"
   ]
  },
  {
   "cell_type": "markdown",
   "id": "fe3a8555",
   "metadata": {},
   "source": [
    "### 2. Even or Odd"
   ]
  },
  {
   "cell_type": "code",
   "execution_count": 2,
   "id": "607afcdf",
   "metadata": {},
   "outputs": [
    {
     "name": "stdout",
     "output_type": "stream",
     "text": [
      "Odd\n"
     ]
    }
   ],
   "source": [
    "num = int(input(\"Enter a number: \"))\n",
    "if num % 2 == 0:\n",
    "    print(\"Even\")\n",
    "else:\n",
    "    print(\"Odd\")"
   ]
  },
  {
   "cell_type": "markdown",
   "id": "42098c10",
   "metadata": {},
   "source": [
    "### 3. Grade Calculator"
   ]
  },
  {
   "cell_type": "code",
   "execution_count": 3,
   "id": "319256ac",
   "metadata": {},
   "outputs": [
    {
     "name": "stdout",
     "output_type": "stream",
     "text": [
      "B\n"
     ]
    }
   ],
   "source": [
    "score = int(input(\"Enter score (0-100): \"))\n",
    "if 90 <= score <= 100:\n",
    "    print(\"A\")\n",
    "elif 80 <= score < 90:\n",
    "    print(\"B\")\n",
    "elif 70 <= score < 80:\n",
    "    print(\"C\")\n",
    "elif 60 <= score < 70:\n",
    "    print(\"D\")\n",
    "else:\n",
    "    print(\"F\")\n"
   ]
  },
  {
   "cell_type": "markdown",
   "id": "f811ca46",
   "metadata": {},
   "source": [
    "### 4. Positive, Negative or Zero"
   ]
  },
  {
   "cell_type": "code",
   "execution_count": 4,
   "id": "373236f8",
   "metadata": {},
   "outputs": [
    {
     "name": "stdout",
     "output_type": "stream",
     "text": [
      "Zero\n"
     ]
    }
   ],
   "source": [
    "num = int(input(\"Enter a number: \"))\n",
    "if num > 0:\n",
    "    print(\"Positive\")\n",
    "elif num < 0:\n",
    "    print(\"Negative\")\n",
    "else:\n",
    "    print(\"Zero\")\n"
   ]
  },
  {
   "cell_type": "markdown",
   "id": "d63617e8",
   "metadata": {},
   "source": [
    "### 5. Sum of First N Numbers"
   ]
  },
  {
   "cell_type": "code",
   "execution_count": 5,
   "id": "20ff2409",
   "metadata": {},
   "outputs": [
    {
     "name": "stdout",
     "output_type": "stream",
     "text": [
      "Sum: 10\n"
     ]
    }
   ],
   "source": [
    "n = int(input(\"Enter N: \"))\n",
    "total = 0\n",
    "for i in range(1, n+1):\n",
    "    total += i\n",
    "print(\"Sum:\", total)\n"
   ]
  },
  {
   "cell_type": "markdown",
   "id": "981978b6",
   "metadata": {},
   "source": [
    "### 6. Factorial Calculation"
   ]
  },
  {
   "cell_type": "code",
   "execution_count": 6,
   "id": "dd305971",
   "metadata": {},
   "outputs": [
    {
     "name": "stdout",
     "output_type": "stream",
     "text": [
      "Factorial: 120\n"
     ]
    }
   ],
   "source": [
    "n = int(input(\"Enter a number: \"))\n",
    "fact = 1\n",
    "for i in range(1, n+1):\n",
    "    fact *= i\n",
    "print(\"Factorial:\", fact)\n"
   ]
  },
  {
   "cell_type": "markdown",
   "id": "21a7ff90",
   "metadata": {},
   "source": [
    "### 7. Multiplication Table"
   ]
  },
  {
   "cell_type": "code",
   "execution_count": 7,
   "id": "618aac45",
   "metadata": {},
   "outputs": [
    {
     "name": "stdout",
     "output_type": "stream",
     "text": [
      "5 x 1 = 5\n",
      "5 x 2 = 10\n",
      "5 x 3 = 15\n",
      "5 x 4 = 20\n",
      "5 x 5 = 25\n",
      "5 x 6 = 30\n",
      "5 x 7 = 35\n",
      "5 x 8 = 40\n",
      "5 x 9 = 45\n",
      "5 x 10 = 50\n"
     ]
    }
   ],
   "source": [
    "num = int(input(\"Enter number: \"))\n",
    "for i in range(1, 11):\n",
    "    print(f\"{num} x {i} = {num*i}\")\n"
   ]
  },
  {
   "cell_type": "markdown",
   "id": "ed537521",
   "metadata": {},
   "source": [
    "### 8. Count Digits"
   ]
  },
  {
   "cell_type": "code",
   "execution_count": 9,
   "id": "646a23a0",
   "metadata": {},
   "outputs": [
    {
     "name": "stdout",
     "output_type": "stream",
     "text": [
      "Digits: 2\n"
     ]
    }
   ],
   "source": [
    "num = int(input(\"Enter number: \"))\n",
    "count = 0\n",
    "while num > 0:\n",
    "    num //= 10\n",
    "    count += 1\n",
    "print(\"Digits:\", count)\n"
   ]
  },
  {
   "cell_type": "markdown",
   "id": "423a9d4d",
   "metadata": {},
   "source": [
    "### 9. Sum of Even Number"
   ]
  },
  {
   "cell_type": "code",
   "execution_count": 10,
   "id": "d101a03b",
   "metadata": {},
   "outputs": [
    {
     "name": "stdout",
     "output_type": "stream",
     "text": [
      "Sum of even numbers: 6\n"
     ]
    }
   ],
   "source": [
    "n = int(input(\"Enter N: \"))\n",
    "total = 0\n",
    "for i in range(2, n+1, 2):\n",
    "    total += i\n",
    "print(\"Sum of even numbers:\", total)\n"
   ]
  },
  {
   "cell_type": "markdown",
   "id": "2c7bb178",
   "metadata": {},
   "source": [
    "### 10. Reverse a String"
   ]
  },
  {
   "cell_type": "code",
   "execution_count": 11,
   "id": "6f29b374",
   "metadata": {},
   "outputs": [
    {
     "name": "stdout",
     "output_type": "stream",
     "text": [
      "Reversed: htnakirS\n"
     ]
    }
   ],
   "source": [
    "s = input(\"Enter string: \")\n",
    "rev = \"\"\n",
    "for ch in s:\n",
    "    rev = ch + rev\n",
    "print(\"Reversed:\", rev)\n"
   ]
  },
  {
   "cell_type": "markdown",
   "id": "3b846039",
   "metadata": {},
   "source": [
    "### 11. Prime Number Check"
   ]
  },
  {
   "cell_type": "code",
   "execution_count": 13,
   "id": "b6012de0",
   "metadata": {},
   "outputs": [
    {
     "name": "stdout",
     "output_type": "stream",
     "text": [
      "Not Prime\n"
     ]
    }
   ],
   "source": [
    "num = int(input(\"Enter number: \"))\n",
    "if num > 1:\n",
    "    for i in range(2, int(num**0.5) + 1):\n",
    "        if num % i == 0:\n",
    "            print(\"Not Prime\")\n",
    "            break\n",
    "    else:\n",
    "        print(\"Prime\")\n",
    "else:\n",
    "    print(\"Not Prime\")\n"
   ]
  },
  {
   "cell_type": "markdown",
   "id": "b09502cd",
   "metadata": {},
   "source": [
    "#### 12. Fibonacci Series"
   ]
  },
  {
   "cell_type": "code",
   "execution_count": 14,
   "id": "38be5a77",
   "metadata": {},
   "outputs": [
    {
     "name": "stdout",
     "output_type": "stream",
     "text": [
      "0 1 1 2 3 "
     ]
    }
   ],
   "source": [
    "n = int(input(\"Enter N: \"))\n",
    "a, b = 0, 1\n",
    "for _ in range(n):\n",
    "    print(a, end=\" \")\n",
    "    a, b = b, a+b\n"
   ]
  },
  {
   "cell_type": "markdown",
   "id": "6fcfdc74",
   "metadata": {},
   "source": [
    "### 13. List Iteration with Index"
   ]
  },
  {
   "cell_type": "code",
   "execution_count": 15,
   "id": "11e8309e",
   "metadata": {},
   "outputs": [
    {
     "name": "stdout",
     "output_type": "stream",
     "text": [
      "0 Alice\n",
      "1 Bob\n",
      "2 Charlie\n"
     ]
    }
   ],
   "source": [
    "names = [\"Alice\", \"Bob\", \"Charlie\"]\n",
    "for i, name in enumerate(names):\n",
    "    print(i, name)"
   ]
  },
  {
   "cell_type": "markdown",
   "id": "4aa1eb32",
   "metadata": {},
   "source": [
    "### 14. Zip Two Lists"
   ]
  },
  {
   "cell_type": "code",
   "execution_count": 16,
   "id": "257f2fbc",
   "metadata": {},
   "outputs": [
    {
     "name": "stdout",
     "output_type": "stream",
     "text": [
      "1 a\n",
      "2 b\n",
      "3 c\n"
     ]
    }
   ],
   "source": [
    "list1 = [1, 2, 3]\n",
    "list2 = ['a', 'b', 'c']\n",
    "for x, y in zip(list1, list2):\n",
    "    print(x, y)\n"
   ]
  },
  {
   "cell_type": "markdown",
   "id": "267df550",
   "metadata": {},
   "source": [
    "### 15. Dictionary from Two Lists"
   ]
  },
  {
   "cell_type": "code",
   "execution_count": 17,
   "id": "5a4ad61a",
   "metadata": {},
   "outputs": [
    {
     "name": "stdout",
     "output_type": "stream",
     "text": [
      "{'a': 1, 'b': 2, 'c': 3}\n"
     ]
    }
   ],
   "source": [
    "keys = [\"a\", \"b\", \"c\"]\n",
    "values = [1, 2, 3]\n",
    "d = dict(zip(keys, values))\n",
    "print(d)\n"
   ]
  },
  {
   "cell_type": "markdown",
   "id": "d4d660f1",
   "metadata": {},
   "source": [
    "### 16. Loop with Else"
   ]
  },
  {
   "cell_type": "code",
   "execution_count": 18,
   "id": "959bdfc1",
   "metadata": {},
   "outputs": [
    {
     "name": "stdout",
     "output_type": "stream",
     "text": [
      "Not Found\n"
     ]
    }
   ],
   "source": [
    "items = [10, 20, 30]\n",
    "search = 25\n",
    "for item in items:\n",
    "    if item == search:\n",
    "        print(\"Found\")\n",
    "        break\n",
    "else:\n",
    "    print(\"Not Found\")\n"
   ]
  },
  {
   "cell_type": "markdown",
   "id": "8bfcb0fa",
   "metadata": {},
   "source": [
    "### 17. Break on Condition"
   ]
  },
  {
   "cell_type": "code",
   "execution_count": 19,
   "id": "dd188451",
   "metadata": {},
   "outputs": [
    {
     "name": "stdout",
     "output_type": "stream",
     "text": [
      "1\n",
      "2\n",
      "3\n",
      "4\n",
      "5\n",
      "6\n"
     ]
    }
   ],
   "source": [
    "for i in range(1, 101):\n",
    "    if i % 7 == 0:\n",
    "        break\n",
    "    print(i)\n"
   ]
  },
  {
   "cell_type": "markdown",
   "id": "25c94bfa",
   "metadata": {},
   "source": [
    "### 18. Continue Example"
   ]
  },
  {
   "cell_type": "code",
   "execution_count": 20,
   "id": "ee365066",
   "metadata": {},
   "outputs": [
    {
     "name": "stdout",
     "output_type": "stream",
     "text": [
      "1\n",
      "2\n",
      "4\n",
      "5\n",
      "7\n",
      "8\n",
      "10\n"
     ]
    }
   ],
   "source": [
    "for i in range(1, 11):\n",
    "    if i % 3 == 0:\n",
    "        continue\n",
    "    print(i)\n"
   ]
  },
  {
   "cell_type": "markdown",
   "id": "939f579b",
   "metadata": {},
   "source": [
    "### 19. Pass Statement"
   ]
  },
  {
   "cell_type": "code",
   "execution_count": 21,
   "id": "ab7a919a",
   "metadata": {},
   "outputs": [
    {
     "name": "stdout",
     "output_type": "stream",
     "text": [
      "1\n",
      "2\n",
      "4\n",
      "5\n"
     ]
    }
   ],
   "source": [
    "for i in range(1, 6):\n",
    "    if i == 3:\n",
    "        pass\n",
    "    else:\n",
    "        print(i)\n"
   ]
  },
  {
   "cell_type": "markdown",
   "id": "182c6889",
   "metadata": {},
   "source": [
    "### 20. List Comprehension"
   ]
  },
  {
   "cell_type": "code",
   "execution_count": 22,
   "id": "b2d540df",
   "metadata": {},
   "outputs": [
    {
     "name": "stdout",
     "output_type": "stream",
     "text": [
      "[1, 4, 9, 16, 25, 36, 49, 64, 81, 100]\n"
     ]
    }
   ],
   "source": [
    "squares = [x**2 for x in range(1, 11)]\n",
    "print(squares)\n"
   ]
  },
  {
   "cell_type": "markdown",
   "id": "dab3774d",
   "metadata": {},
   "source": [
    "### 21. Even Numbers Comprehension"
   ]
  },
  {
   "cell_type": "code",
   "execution_count": 23,
   "id": "48753b6b",
   "metadata": {},
   "outputs": [
    {
     "name": "stdout",
     "output_type": "stream",
     "text": [
      "[2, 4, 6, 8, 10, 12, 14, 16, 18, 20]\n"
     ]
    }
   ],
   "source": [
    "evens = [x for x in range(1, 21) if x % 2 == 0]\n",
    "print(evens)\n"
   ]
  },
  {
   "cell_type": "markdown",
   "id": "58bfce7f",
   "metadata": {},
   "source": [
    "### 22. Dictionary Comprehension"
   ]
  },
  {
   "cell_type": "code",
   "execution_count": 24,
   "id": "01b9c760",
   "metadata": {},
   "outputs": [
    {
     "name": "stdout",
     "output_type": "stream",
     "text": [
      "{1: 1, 2: 4, 3: 9, 4: 16, 5: 25}\n"
     ]
    }
   ],
   "source": [
    "d = {x: x**2 for x in range(1, 6)}\n",
    "print(d)\n"
   ]
  },
  {
   "cell_type": "markdown",
   "id": "67d5135b",
   "metadata": {},
   "source": [
    "### 23. String Lengths"
   ]
  },
  {
   "cell_type": "code",
   "execution_count": 25,
   "id": "3ff2c0e6",
   "metadata": {},
   "outputs": [
    {
     "name": "stdout",
     "output_type": "stream",
     "text": [
      "[5, 5, 6]\n"
     ]
    }
   ],
   "source": [
    "words = [\"hello\", \"world\", \"python\"]\n",
    "lengths = [len(w) for w in words]\n",
    "print(lengths)\n"
   ]
  },
  {
   "cell_type": "markdown",
   "id": "eac0b106",
   "metadata": {},
   "source": [
    "### 24. Nested Loop Pattern"
   ]
  },
  {
   "cell_type": "code",
   "execution_count": 26,
   "id": "e3299882",
   "metadata": {},
   "outputs": [
    {
     "name": "stdout",
     "output_type": "stream",
     "text": [
      "*\n",
      "**\n",
      "***\n",
      "****\n",
      "*****\n"
     ]
    }
   ],
   "source": [
    "rows = 5\n",
    "for i in range(1, rows+1):\n",
    "    for j in range(i):\n",
    "        print(\"*\", end=\"\")\n",
    "    print()\n"
   ]
  },
  {
   "cell_type": "markdown",
   "id": "3c1c8ca3",
   "metadata": {},
   "source": [
    "### 25. Matrix Operations"
   ]
  },
  {
   "cell_type": "code",
   "execution_count": 27,
   "id": "27e3bd7c",
   "metadata": {},
   "outputs": [
    {
     "name": "stdout",
     "output_type": "stream",
     "text": [
      "Sum of matrices: [[6, 8], [10, 12]]\n"
     ]
    }
   ],
   "source": [
    "A = [[1, 2], [3, 4]]\n",
    "B = [[5, 6], [7, 8]]\n",
    "result = [[0, 0], [0, 0]]\n",
    "\n",
    "for i in range(2):\n",
    "    for j in range(2):\n",
    "        result[i][j] = A[i][j] + B[i][j]\n",
    "\n",
    "print(\"Sum of matrices:\", result)\n"
   ]
  },
  {
   "cell_type": "markdown",
   "id": "b95ccdbe",
   "metadata": {},
   "source": [
    "### 26. Exception Handling Division"
   ]
  },
  {
   "cell_type": "code",
   "execution_count": 29,
   "id": "6dd46b04",
   "metadata": {},
   "outputs": [
    {
     "name": "stdout",
     "output_type": "stream",
     "text": [
      "Result: 1.7\n"
     ]
    }
   ],
   "source": [
    "try:\n",
    "    a = int(input(\"Enter numerator: \"))\n",
    "    b = int(input(\"Enter denominator: \"))\n",
    "    print(\"Result:\", a / b)\n",
    "except ZeroDivisionError:\n",
    "    print(\"Cannot divide by zero\")\n"
   ]
  },
  {
   "cell_type": "markdown",
   "id": "20bc2082",
   "metadata": {},
   "source": [
    "### 27. ValueError Handling"
   ]
  },
  {
   "cell_type": "code",
   "execution_count": 30,
   "id": "1bd7eb5a",
   "metadata": {},
   "outputs": [
    {
     "name": "stdout",
     "output_type": "stream",
     "text": [
      "You entered: 20\n"
     ]
    }
   ],
   "source": [
    "try:\n",
    "    num = int(input(\"Enter number: \"))\n",
    "    print(\"You entered:\", num)\n",
    "except ValueError:\n",
    "    print(\"Invalid input! Please enter an integer.\")\n"
   ]
  },
  {
   "cell_type": "markdown",
   "id": "2fd5ff20",
   "metadata": {},
   "source": [
    "### 28. File Reading with Exception"
   ]
  },
  {
   "cell_type": "code",
   "execution_count": 31,
   "id": "60e3a821",
   "metadata": {},
   "outputs": [
    {
     "name": "stdout",
     "output_type": "stream",
     "text": [
      "File not found\n"
     ]
    }
   ],
   "source": [
    "try:\n",
    "    with open(\"file.txt\", \"r\") as f:\n",
    "        print(f.read())\n",
    "except FileNotFoundError:\n",
    "    print(\"File not found\")\n"
   ]
  },
  {
   "cell_type": "markdown",
   "id": "b47e8bbe",
   "metadata": {},
   "source": [
    "### 29. Multiple Exceptions"
   ]
  },
  {
   "cell_type": "code",
   "execution_count": 32,
   "id": "4a536db8",
   "metadata": {},
   "outputs": [
    {
     "name": "stdout",
     "output_type": "stream",
     "text": [
      "Result: 2.0\n"
     ]
    }
   ],
   "source": [
    "try:\n",
    "    a = int(input(\"Enter numerator: \"))\n",
    "    b = int(input(\"Enter denominator: \"))\n",
    "    print(\"Result:\", a / b)\n",
    "except ValueError:\n",
    "    print(\"Invalid number entered\")\n",
    "except ZeroDivisionError:\n",
    "    print(\"Cannot divide by zero\")\n"
   ]
  },
  {
   "cell_type": "markdown",
   "id": "eaf1b67b",
   "metadata": {},
   "source": [
    "### 30. Finally Block"
   ]
  },
  {
   "cell_type": "code",
   "execution_count": 33,
   "id": "1813c282",
   "metadata": {},
   "outputs": [
    {
     "name": "stdout",
     "output_type": "stream",
     "text": [
      "File not found\n"
     ]
    }
   ],
   "source": [
    "try:\n",
    "    f = open(\"file.txt\", \"r\")\n",
    "    print(f.read())\n",
    "except FileNotFoundError:\n",
    "    print(\"File not found\")\n",
    "finally:\n",
    "    try:\n",
    "        f.close()\n",
    "    except:\n",
    "        pass\n"
   ]
  }
 ],
 "metadata": {
  "kernelspec": {
   "display_name": "Python 3",
   "language": "python",
   "name": "python3"
  },
  "language_info": {
   "codemirror_mode": {
    "name": "ipython",
    "version": 3
   },
   "file_extension": ".py",
   "mimetype": "text/x-python",
   "name": "python",
   "nbconvert_exporter": "python",
   "pygments_lexer": "ipython3",
   "version": "3.11.4"
  }
 },
 "nbformat": 4,
 "nbformat_minor": 5
}
