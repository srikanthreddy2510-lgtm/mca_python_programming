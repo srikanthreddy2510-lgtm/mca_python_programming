{
 "cells": [
  {
   "cell_type": "code",
   "execution_count": 10,
   "id": "42730102",
   "metadata": {},
   "outputs": [
    {
     "name": "stdout",
     "output_type": "stream",
     "text": [
      "1\n",
      "1\n",
      "1\n",
      "1\n",
      "1\n",
      "1\n",
      "1\n",
      "1\n",
      "1\n",
      "1\n",
      "1\n",
      "1\n",
      "1\n",
      "1\n",
      "1\n",
      "1\n",
      "1\n",
      "1\n",
      "1\n",
      "1\n",
      "1\n",
      "1\n",
      "1\n",
      "1\n",
      "1\n",
      "1\n",
      "1\n",
      "1\n",
      "1\n",
      "1\n",
      "1\n",
      "1\n",
      "1\n",
      "1\n",
      "1\n",
      "1\n",
      "1\n",
      "1\n",
      "1\n",
      "1\n",
      "1\n",
      "1\n",
      "1\n",
      "1\n",
      "1\n",
      "1\n",
      "1\n",
      "1\n",
      "1\n",
      "1\n"
     ]
    }
   ],
   "source": [
    "for _ in range(50):\n",
    "    print(1)"
   ]
  },
  {
   "cell_type": "code",
   "execution_count": null,
   "id": "96053088",
   "metadata": {},
   "outputs": [],
   "source": []
  },
  {
   "cell_type": "markdown",
   "id": "eefb0949",
   "metadata": {},
   "source": []
  },
  {
   "cell_type": "code",
   "execution_count": 9,
   "id": "753102a1",
   "metadata": {},
   "outputs": [
    {
     "name": "stdout",
     "output_type": "stream",
     "text": [
      "This is a statement\n",
      "This is a statement\n",
      "This is a statement\n",
      "This is a statement\n",
      "This is a statement\n"
     ]
    }
   ],
   "source": [
    "for _ in range(5):\n",
    "    print(\"This is a statement\")"
   ]
  },
  {
   "cell_type": "code",
   "execution_count": null,
   "id": "46448b5a",
   "metadata": {},
   "outputs": [
    {
     "name": "stdout",
     "output_type": "stream",
     "text": [
      "1\n",
      "2\n",
      "3\n",
      "4\n",
      "5\n",
      "6\n",
      "7\n",
      "8\n",
      "9\n",
      "10\n",
      "11\n",
      "12\n",
      "13\n",
      "14\n",
      "15\n"
     ]
    }
   ],
   "source": [
    "for i in range(15):\n",
    "    print(i)"
   ]
  },
  {
   "cell_type": "code",
   "execution_count": 18,
   "id": "ceaaf581",
   "metadata": {},
   "outputs": [
    {
     "name": "stdout",
     "output_type": "stream",
     "text": [
      "1\n",
      "2\n",
      "3\n",
      "4\n",
      "5\n",
      "6\n",
      "7\n",
      "8\n",
      "9\n",
      "10\n",
      "11\n",
      "12\n",
      "13\n",
      "14\n",
      "15\n"
     ]
    }
   ],
   "source": [
    "for i in range(1, 16):\n",
    "    print(i)"
   ]
  },
  {
   "cell_type": "code",
   "execution_count": 19,
   "id": "e63c0347",
   "metadata": {},
   "outputs": [
    {
     "name": "stdout",
     "output_type": "stream",
     "text": [
      "5\n",
      "6\n",
      "7\n",
      "8\n",
      "9\n"
     ]
    }
   ],
   "source": [
    "a = 5\n",
    "b = 10\n",
    "for i in range(a,b):\n",
    "    print(i)"
   ]
  },
  {
   "cell_type": "code",
   "execution_count": 20,
   "id": "8b874e92",
   "metadata": {},
   "outputs": [
    {
     "name": "stdout",
     "output_type": "stream",
     "text": [
      "10\n",
      "11\n",
      "12\n",
      "13\n",
      "14\n"
     ]
    }
   ],
   "source": [
    "x = int(input(\"Enter start\"))\n",
    "y = int(input(\"Enter stop\"))\n",
    "for i in range(x,y):\n",
    "    print(i)"
   ]
  },
  {
   "cell_type": "code",
   "execution_count": 23,
   "id": "4092cfbe",
   "metadata": {},
   "outputs": [
    {
     "name": "stdout",
     "output_type": "stream",
     "text": [
      "12 x 1 = 12\n",
      "12 x 2 = 24\n",
      "12 x 3 = 36\n",
      "12 x 4 = 48\n",
      "12 x 5 = 60\n",
      "12 x 6 = 72\n",
      "12 x 7 = 84\n",
      "12 x 8 = 96\n",
      "12 x 9 = 108\n",
      "12 x 10 = 120\n"
     ]
    }
   ],
   "source": [
    "size = 10\n",
    "for i in range(1, size + 1):\n",
    "    print(f\"12 x {i} = {12 * i}\")"
   ]
  },
  {
   "cell_type": "code",
   "execution_count": 1,
   "id": "f8956646",
   "metadata": {},
   "outputs": [
    {
     "name": "stdout",
     "output_type": "stream",
     "text": [
      "-10,-7,-4,-1,2,5,8,"
     ]
    }
   ],
   "source": [
    "for i in range(-10, 10, 3):\n",
    "    print(i, end=\",\")"
   ]
  },
  {
   "cell_type": "markdown",
   "id": "1500f360",
   "metadata": {},
   "source": [
    "## syntax \n",
    "for var in iterable:\n",
    "    if condition:\n",
    "        statement\n",
    "    else:\n",
    "        statement"
   ]
  },
  {
   "cell_type": "code",
   "execution_count": 2,
   "id": "8770cdc7",
   "metadata": {},
   "outputs": [
    {
     "name": "stdout",
     "output_type": "stream",
     "text": [
      "2\n",
      "4\n",
      "6\n",
      "8\n",
      "10\n"
     ]
    }
   ],
   "source": [
    "for i in range(1,11):\n",
    "    if i % 2 == 0:\n",
    "        print(i)"
   ]
  },
  {
   "cell_type": "code",
   "execution_count": null,
   "id": "9db7919f",
   "metadata": {},
   "outputs": [],
   "source": []
  },
  {
   "cell_type": "code",
   "execution_count": 3,
   "id": "e6f8cca6",
   "metadata": {},
   "outputs": [
    {
     "name": "stdout",
     "output_type": "stream",
     "text": [
      "1\n",
      "3\n",
      "5\n",
      "7\n",
      "9\n"
     ]
    }
   ],
   "source": [
    "for i in range(1,11):\n",
    "    if i % 2 != 0:\n",
    "        print(i)"
   ]
  },
  {
   "cell_type": "code",
   "execution_count": 4,
   "id": "4fe5b1eb",
   "metadata": {},
   "outputs": [
    {
     "name": "stdout",
     "output_type": "stream",
     "text": [
      "Odd number\n",
      "Odd number\n",
      "Odd number\n",
      "Odd number\n",
      "144\n",
      "Odd number\n"
     ]
    }
   ],
   "source": [
    "nums = [ 1, 5, 11, 3, 12, 15]\n",
    "for i in nums:\n",
    "    if i % 2 == 0:\n",
    "        s = i ** 2\n",
    "        print(s)\n",
    "    else:\n",
    "        print(\"Odd number\")"
   ]
  },
  {
   "cell_type": "code",
   "execution_count": 6,
   "id": "991ec6c6",
   "metadata": {},
   "outputs": [
    {
     "name": "stdout",
     "output_type": "stream",
     "text": [
      "1\n",
      "125\n",
      "1331\n",
      "27\n",
      "Prime number\n",
      "3375\n"
     ]
    }
   ],
   "source": [
    "nums = [ 1, 5, 11, 3, 12, 15]\n",
    "for i in nums:\n",
    "    if i % 2 != 0:\n",
    "        s = i ** 3\n",
    "        print(s)\n",
    "    else:\n",
    "        print(\"Prime number\")"
   ]
  },
  {
   "cell_type": "code",
   "execution_count": 11,
   "id": "8c863235",
   "metadata": {},
   "outputs": [
    {
     "name": "stdout",
     "output_type": "stream",
     "text": [
      "The area for 3 is 28.26\n",
      "The area for 5 is 78.5\n",
      "The area for 6 is 113.04\n",
      "The area for 11 is 379.94\n",
      "The area for 10 is 314.0\n"
     ]
    }
   ],
   "source": [
    "radius = [3, 5, 6, 11, 10]\n",
    "for i in radius:\n",
    "    a = 3.14 * i ** 2\n",
    "    print(f\"The area for {i} is {a}\")"
   ]
  },
  {
   "cell_type": "code",
   "execution_count": 13,
   "id": "a40bf6a1",
   "metadata": {},
   "outputs": [
    {
     "name": "stdout",
     "output_type": "stream",
     "text": [
      "Candy crush\n",
      "Chess\n",
      "Cricket\n"
     ]
    }
   ],
   "source": [
    "videogames = [\"Pubg\", \"Free fire\", \"Temple run\",\"Subway surfers\", \"Candy crush\", \"Chess\", \"vice city\", \"Cricket\", \"Ludo\", \"8 ball pool\" ]\n",
    "for name in videogames:\n",
    "    if name.startswith(\"C\"):\n",
    "        print(name)"
   ]
  },
  {
   "cell_type": "code",
   "execution_count": 15,
   "id": "d771a94c",
   "metadata": {},
   "outputs": [
    {
     "name": "stdout",
     "output_type": "stream",
     "text": [
      "book--> The final empire\n",
      "book--> The well of Ascension\n",
      "book--> The alloy of law\n",
      "book--> Hero of ages\n",
      "book--> The way of Kings\n"
     ]
    }
   ],
   "source": [
    "books = [\"The final empire\", \"War breaker\", \"Elantus\", \"The well of Ascension\", \"The alloy of law\", \"Hero of ages\", \"The way of Kings\"]\n",
    "for book in books:\n",
    "    if \"The\" in book or \"of\" in book:\n",
    "        print(f\"book--> {book}\")"
   ]
  },
  {
   "cell_type": "markdown",
   "id": "1837da1e",
   "metadata": {},
   "source": [
    "## Aggregation\n",
    "sum, count, min, max, avg, median"
   ]
  },
  {
   "cell_type": "code",
   "execution_count": 9,
   "id": "ea9a31a0",
   "metadata": {},
   "outputs": [
    {
     "name": "stdout",
     "output_type": "stream",
     "text": [
      "165\n"
     ]
    }
   ],
   "source": [
    "total = 0\n",
    "for num in range(10, 21):\n",
    "    total = total + num\n",
    "print(total)"
   ]
  },
  {
   "cell_type": "code",
   "execution_count": 16,
   "id": "cbf7a08c",
   "metadata": {},
   "outputs": [
    {
     "name": "stdout",
     "output_type": "stream",
     "text": [
      "6704425728000\n"
     ]
    }
   ],
   "source": [
    "total = 1\n",
    "for num in range(10, 21):\n",
    "    total = total * num\n",
    "print(total)"
   ]
  },
  {
   "cell_type": "code",
   "execution_count": 10,
   "id": "c3dec113",
   "metadata": {},
   "outputs": [
    {
     "name": "stdout",
     "output_type": "stream",
     "text": [
      "53\n"
     ]
    }
   ],
   "source": [
    "nums = [5, 11, 2, 53, 10, 33]\n",
    "m = 0\n",
    "for num in nums:\n",
    "    if num > m:\n",
    "        m = num\n",
    "print(m)"
   ]
  },
  {
   "cell_type": "code",
   "execution_count": 34,
   "id": "057dc0f9",
   "metadata": {},
   "outputs": [
    {
     "name": "stdout",
     "output_type": "stream",
     "text": [
      "Total count = 8\n"
     ]
    }
   ],
   "source": [
    "nums = [25, 26, 27, 28, 29, 30, 31, 32, 33, 34, 35, 36, 37, 38, 39, 40, 41, 42, 43, 44, 45, 46, 47, 48, 49, 50]\n",
    "count = 0\n",
    "for i in nums:\n",
    "    if i % 3 == 0:\n",
    "        count = count + 1\n",
    "print(f\"Total count = {count}\")"
   ]
  },
  {
   "cell_type": "code",
   "execution_count": 35,
   "id": "ccb8647d",
   "metadata": {},
   "outputs": [
    {
     "name": "stdout",
     "output_type": "stream",
     "text": [
      "Total count= 13\n"
     ]
    }
   ],
   "source": [
    "nums = [25, 26, 27, 28, 29, 30, 31, 32, 33, 34, 35, 36, 37, 38, 39, 40, 41, 42, 43, 44, 45, 46, 47, 48, 49, 50]\n",
    "count = 0\n",
    "for i in nums:\n",
    "    if i % 2 == 0:\n",
    "        count = count + 1\n",
    "print(f\"Total count= {count}\")"
   ]
  },
  {
   "cell_type": "code",
   "execution_count": null,
   "id": "a56835d6",
   "metadata": {},
   "outputs": [
    {
     "name": "stdout",
     "output_type": "stream",
     "text": [
      "Count 3\n"
     ]
    }
   ],
   "source": [
    "movies = [\"Kannappa\", \"Ginna\", \"RRR\", \"F1\", \"Son of India\", \"Dhee\", \"Kotha Lokha\", \"Little Hearts\", \"Mirchi\", \"OG\", \"Akhanda\", \"Ghaati\", \"Raja Saab\", \"Radhe shyam\"]\n",
    "count = 0\n",
    "for movie in movies:\n",
    "    if movie.startswith(\"R\") or movie.startswith(\"r\"):\n",
    "        # long way -> count = count + 1\n",
    "        count += 1\n",
    "print(\"Count\", count)"
   ]
  },
  {
   "cell_type": "code",
   "execution_count": 13,
   "id": "a107c798",
   "metadata": {},
   "outputs": [
    {
     "name": "stdout",
     "output_type": "stream",
     "text": [
      "8* 1\n",
      "7* 8\n",
      "6* 56\n",
      "5* 336\n",
      "4* 1680\n",
      "3* 6720\n",
      "2* 20160\n",
      "1* 40320\n",
      "40320\n"
     ]
    }
   ],
   "source": [
    "#Factorial \n",
    "num = 8\n",
    "fact = 1\n",
    "# you can use a backword or forward loop\n",
    "for i in range(num, 0, -1):\n",
    "    print(f'{i}* {fact}')\n",
    "    fact = fact * i\n",
    "print(fact)"
   ]
  },
  {
   "cell_type": "markdown",
   "id": "ac5ec847",
   "metadata": {},
   "source": [
    "### Nested loop\n",
    "for loop:\n",
    "    for loop:\n",
    "        for loop:\n",
    "            ..."
   ]
  },
  {
   "cell_type": "code",
   "execution_count": null,
   "id": "fa4b4070",
   "metadata": {},
   "outputs": [
    {
     "name": "stdout",
     "output_type": "stream",
     "text": [
      "i = 1, j = 1\n",
      "i = 1, j = 2\n",
      "i = 1, j = 3\n",
      "i = 1, j = 4\n",
      "i = 1, j = 5\n",
      "i = 2, j = 1\n",
      "i = 2, j = 2\n",
      "i = 2, j = 3\n",
      "i = 2, j = 4\n",
      "i = 2, j = 5\n",
      "i = 3, j = 1\n",
      "i = 3, j = 2\n",
      "i = 3, j = 3\n",
      "i = 3, j = 4\n",
      "i = 3, j = 5\n",
      "i = 4, j = 1\n",
      "i = 4, j = 2\n",
      "i = 4, j = 3\n",
      "i = 4, j = 4\n",
      "i = 4, j = 5\n",
      "i = 5, j = 1\n",
      "i = 5, j = 2\n",
      "i = 5, j = 3\n",
      "i = 5, j = 4\n",
      "i = 5, j = 5\n",
      "i = 6, j = 1\n",
      "i = 6, j = 2\n",
      "i = 6, j = 3\n",
      "i = 6, j = 4\n",
      "i = 6, j = 5\n",
      "i = 7, j = 1\n",
      "i = 7, j = 2\n",
      "i = 7, j = 3\n",
      "i = 7, j = 4\n",
      "i = 7, j = 5\n",
      "i = 8, j = 1\n",
      "i = 8, j = 2\n",
      "i = 8, j = 3\n",
      "i = 8, j = 4\n",
      "i = 8, j = 5\n",
      "i = 9, j = 1\n",
      "i = 9, j = 2\n",
      "i = 9, j = 3\n",
      "i = 9, j = 4\n",
      "i = 9, j = 5\n",
      "i = 10, j = 1\n",
      "i = 10, j = 2\n",
      "i = 10, j = 3\n",
      "i = 10, j = 4\n",
      "i = 10, j = 5\n"
     ]
    }
   ],
   "source": [
    "# Loops total 10*5 => 50 times:\n",
    "for i in range(1,11):           # Lopps 10 times\n",
    "    for j in range(1,6):        # Loops 5 times\n",
    "        print(f\"i = {i}, j = {j}\")"
   ]
  },
  {
   "cell_type": "code",
   "execution_count": 18,
   "id": "0ff57f8a",
   "metadata": {},
   "outputs": [
    {
     "name": "stdout",
     "output_type": "stream",
     "text": [
      "1 2 3 4 5 \n",
      "1 2 3 4 5 \n",
      "1 2 3 4 5 \n",
      "1 2 3 4 5 \n",
      "1 2 3 4 5 \n"
     ]
    }
   ],
   "source": [
    "n = 6\n",
    "for i in range(1, n):\n",
    "    for j in range (1, n):\n",
    "        print (j, end=' ')      # dont change line till inner loop \n",
    "    print()                     # change line for the outer loop"
   ]
  },
  {
   "cell_type": "code",
   "execution_count": 19,
   "id": "68e250d1",
   "metadata": {},
   "outputs": [
    {
     "name": "stdout",
     "output_type": "stream",
     "text": [
      "1 1 1 1 1 \n",
      "2 2 2 2 2 \n",
      "3 3 3 3 3 \n",
      "4 4 4 4 4 \n",
      "5 5 5 5 5 \n"
     ]
    }
   ],
   "source": [
    "n = 6\n",
    "for i in range(1, n):\n",
    "    for j in range (1, n):\n",
    "        print (i, end=' ')      # dont change line till inner loop \n",
    "    print()                     # change line for the outer loop"
   ]
  },
  {
   "cell_type": "markdown",
   "id": "f67f270c",
   "metadata": {},
   "source": [
    "### Jump statement\n",
    "\n",
    "    - continue - to skip a step\n",
    "    - break - to stop the loop\n",
    "\n",
    "always used with a condition inside a loop"
   ]
  },
  {
   "cell_type": "code",
   "execution_count": 24,
   "id": "2674331b",
   "metadata": {},
   "outputs": [
    {
     "name": "stdout",
     "output_type": "stream",
     "text": [
      "1 2 4 5 7 8 10 11 13 14 16 17 19 20 22 23 "
     ]
    }
   ],
   "source": [
    "# skip every value divisible by 3\n",
    "for i in range(1, 25):\n",
    "    if i % 3 == 0:\n",
    "        continue\n",
    "    print(i, end=\" \")"
   ]
  },
  {
   "cell_type": "code",
   "execution_count": 25,
   "id": "522a92fe",
   "metadata": {},
   "outputs": [
    {
     "name": "stdout",
     "output_type": "stream",
     "text": [
      "1 2 3 3 1 2 5 6 7 2 2 1 "
     ]
    }
   ],
   "source": [
    "data = [1,2,0,3,3,0,1,2,0,5,6,7,2,0,2,1]\n",
    "for i in data:\n",
    "    if i == 0:\n",
    "        continue\n",
    "    print(i, end=\" \")"
   ]
  },
  {
   "cell_type": "code",
   "execution_count": 26,
   "id": "22fc4345",
   "metadata": {},
   "outputs": [
    {
     "name": "stdout",
     "output_type": "stream",
     "text": [
      "1 2 3 4 5 6 7 "
     ]
    }
   ],
   "source": [
    "for i in range(1, 11):\n",
    "    if i == 8:\n",
    "        break\n",
    "    print(i, end=\" \")"
   ]
  },
  {
   "cell_type": "code",
   "execution_count": null,
   "id": "5c1075dd",
   "metadata": {},
   "outputs": [
    {
     "name": "stdout",
     "output_type": "stream",
     "text": [
      "ENter 0 to stop the loop\n"
     ]
    }
   ],
   "source": [
    "# Add all values entered by user till he types 0\n",
    "\n",
    "total = 0\n",
    "print(\"ENter 0 to stop the loop\")\n",
    "for i in range(100):\n",
    "    value = int(input(\"Enter a value\"))\n",
    "    if value == 0:\n",
    "        break\n",
    "    total += value  # add the value to total\n",
    "print(f\"total = {total}\")"
   ]
  },
  {
   "cell_type": "code",
   "execution_count": null,
   "id": "5822fabe",
   "metadata": {},
   "outputs": [
    {
     "name": "stdout",
     "output_type": "stream",
     "text": [
      "2\n",
      "5\n",
      "8\n",
      "11\n",
      "15\n",
      "Loop completed\n"
     ]
    }
   ],
   "source": [
    "# for else\n",
    "\n",
    "nums = [2, 5, 8, 11, 15]\n",
    "for n in nums:\n",
    "    print(n)\n",
    "print(\"Loop completed\")"
   ]
  },
  {
   "cell_type": "code",
   "execution_count": null,
   "id": "121fbbd6",
   "metadata": {},
   "outputs": [
    {
     "name": "stdout",
     "output_type": "stream",
     "text": [
      "2\n",
      "5\n",
      "8\n",
      "loop completed\n"
     ]
    }
   ],
   "source": [
    "nums = [2, 5, 8, 11, 18]\n",
    "for n in nums:\n",
    "    if n > 10:\n",
    "        break\n",
    "    print(n)\n",
    "print(\"loop completed\")"
   ]
  },
  {
   "cell_type": "code",
   "execution_count": null,
   "id": "876544e4",
   "metadata": {},
   "outputs": [
    {
     "name": "stdout",
     "output_type": "stream",
     "text": [
      "Loop completed\n"
     ]
    }
   ],
   "source": [
    "value = int(input(\"Enter Breakpoint\"))\n",
    "nums = [1, 2, 3, 4, 5, 6, 11, 15, 20, 25]\n",
    "for n in nums:\n",
    "    if value > n:\n",
    "        print(\"Loop broken\")\n",
    "        break\n",
    "else:\n",
    "    print(\"Loop completed\")"
   ]
  },
  {
   "cell_type": "code",
   "execution_count": null,
   "id": "c7329c90",
   "metadata": {},
   "outputs": [
    {
     "name": "stdout",
     "output_type": "stream",
     "text": [
      "5 is Prime Number\n"
     ]
    }
   ],
   "source": [
    "### Prime Number \n",
    "\n",
    "num = int(input(\"Enter a number\"))\n",
    "for n in range(2, num):\n",
    "    if num % n == 0:\n",
    "        print(f\"{num} not a Prime Number\")\n",
    "        break\n",
    "else:\n",
    "    print(f\"{num} is Prime Number\")"
   ]
  },
  {
   "cell_type": "markdown",
   "id": "6932df29",
   "metadata": {},
   "source": [
    "SYNTAX\n",
    "\n",
    "while cond:\n",
    "    statement 1\n",
    "    statement 2\n",
    "    ...\n",
    "    stetemnt n"
   ]
  },
  {
   "cell_type": "code",
   "execution_count": 4,
   "id": "8fa80ebe",
   "metadata": {},
   "outputs": [
    {
     "name": "stdout",
     "output_type": "stream",
     "text": [
      "50 45 40 35 30 25 20 15 10 5 "
     ]
    }
   ],
   "source": [
    "x = 50\n",
    "while x > 0:\n",
    "    print(x, end=\" \")\n",
    "    x -= 5"
   ]
  }
 ],
 "metadata": {
  "kernelspec": {
   "display_name": "Python 3",
   "language": "python",
   "name": "python3"
  },
  "language_info": {
   "codemirror_mode": {
    "name": "ipython",
    "version": 3
   },
   "file_extension": ".py",
   "mimetype": "text/x-python",
   "name": "python",
   "nbconvert_exporter": "python",
   "pygments_lexer": "ipython3",
   "version": "3.11.4"
  }
 },
 "nbformat": 4,
 "nbformat_minor": 5
}
