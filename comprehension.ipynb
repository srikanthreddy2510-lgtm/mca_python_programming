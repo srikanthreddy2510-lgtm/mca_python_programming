{
 "cells": [
  {
   "cell_type": "markdown",
   "id": "a4b13d41",
   "metadata": {},
   "source": [
    "SYNTAX  \n",
    "    newlist = [operation for loop]  \n",
    "\n",
    "example     \n",
    "    X2 = [i ** 2 for i in x]  \n",
    "    x3 = [a ** 3 for a in y]"
   ]
  },
  {
   "cell_type": "markdown",
   "id": "68502081",
   "metadata": {},
   "source": [
    "condition based     \n",
    "    newlist = [operation loop condition]    \n",
    "example     \n",
    "    xeven = [i for i in x if i % 2 == 0]    \n",
    "    songs = [file for file in data if file.endwith('.mp3')]"
   ]
  },
  {
   "cell_type": "markdown",
   "id": "1606770e",
   "metadata": {},
   "source": [
    "MAPPING     \n",
    "    - apply operation on data     \n",
    "FILTERING   \n",
    "    - apply filter on data"
   ]
  },
  {
   "cell_type": "code",
   "execution_count": 3,
   "id": "500486d2",
   "metadata": {},
   "outputs": [
    {
     "name": "stdout",
     "output_type": "stream",
     "text": [
      "['Pushpa', 'Kannapa', 'Jinna', 'Journey', 'Little hearts', 'Court', 'Lucky Bhaskar', 'Thammudu', 'Santhosham', 'kalisundhamraa', 'Nuv naku nachav', 'Baby', '7G Brundhavan colony', 'Remo', 'Orange', 'Rx 100', 'Arjun Reddy', 'Mangalvaram']\n",
      "[6, 7, 5, 7, 13, 5, 13, 8, 10, 14, 15, 4, 20, 4, 6, 6, 11, 11]\n"
     ]
    }
   ],
   "source": [
    "# WAP to create a newlist and store the length of each other\n",
    "movies = ['Pushpa', 'Kannapa', 'Jinna', 'Journey', 'Little hearts', 'Court', 'Lucky Bhaskar', 'Thammudu', 'Santhosham', \n",
    "          'kalisundhamraa', 'Nuv naku nachav', 'Baby', '7G Brundhavan colony', 'Remo', 'Orange', 'Rx 100', 'Arjun Reddy', 'Mangalvaram']\n",
    "\n",
    "movielen = []\n",
    "for movie in movies:\n",
    "    size = len(movie)\n",
    "    movielen.append(size)\n",
    "print(movies)\n",
    "print(movielen)"
   ]
  },
  {
   "cell_type": "code",
   "execution_count": 4,
   "id": "0a9833b8",
   "metadata": {},
   "outputs": [
    {
     "name": "stdout",
     "output_type": "stream",
     "text": [
      "['Pushpa', 'Kannapa', 'Jinna', 'Journey', 'Little hearts', 'Court', 'Lucky Bhaskar', 'Thammudu', 'Santhosham', 'kalisundhamraa', 'Nuv naku nachav', 'Baby', '7G Brundhavan colony', 'Remo', 'Orange', 'Rx 100', 'Arjun Reddy', 'Mangalvaram']\n",
      "[6, 7, 5, 7, 13, 5, 13, 8, 10, 14, 15, 4, 20, 4, 6, 6, 11, 11]\n"
     ]
    }
   ],
   "source": [
    "movielen = [len(movie) for movie in movies]\n",
    "print(movies)\n",
    "print(movielen)"
   ]
  },
  {
   "cell_type": "code",
   "execution_count": 6,
   "id": "66de5044",
   "metadata": {},
   "outputs": [
    {
     "name": "stdout",
     "output_type": "stream",
     "text": [
      "['Pushpa', 'Kannapa', 'Jinna', 'Journey', 'Little hearts', 'Court', 'Lucky Bhaskar', 'Thammudu', 'Santhosham', 'kalisundhamraa', 'Nuv naku nachav', 'Baby', '7G Brundhavan colony', 'Remo', 'Orange', 'Rx 100', 'Arjun Reddy', 'Mangalvaram']\n",
      "['PUSHPA', 'KANNAPA', 'JINNA', 'JOURNEY', 'LITTLE HEARTS', 'COURT', 'LUCKY BHASKAR', 'THAMMUDU', 'SANTHOSHAM', 'KALISUNDHAMRAA', 'NUV NAKU NACHAV', 'BABY', '7G BRUNDHAVAN COLONY', 'REMO', 'ORANGE', 'RX 100', 'ARJUN REDDY', 'MANGALVARAM']\n"
     ]
    }
   ],
   "source": [
    "# wap to create a list from movies but with all capital letters\n",
    "movies_cap = []\n",
    "for movie in movies:\n",
    "    name = movie.upper()\n",
    "    movies_cap.append(name)\n",
    "print(movies)\n",
    "print(movies_cap)"
   ]
  },
  {
   "cell_type": "code",
   "execution_count": 8,
   "id": "f3387806",
   "metadata": {},
   "outputs": [
    {
     "name": "stdout",
     "output_type": "stream",
     "text": [
      "['Pushpa', 'Kannapa', 'Jinna', 'Journey', 'Little hearts', 'Court', 'Lucky Bhaskar', 'Thammudu', 'Santhosham', 'kalisundhamraa', 'Nuv naku nachav', 'Baby', '7G Brundhavan colony', 'Remo', 'Orange', 'Rx 100', 'Arjun Reddy', 'Mangalvaram']\n",
      "['PUSHPA', 'KANNAPA', 'JINNA', 'JOURNEY', 'LITTLE HEARTS', 'COURT', 'LUCKY BHASKAR', 'THAMMUDU', 'SANTHOSHAM', 'KALISUNDHAMRAA', 'NUV NAKU NACHAV', 'BABY', '7G BRUNDHAVAN COLONY', 'REMO', 'ORANGE', 'RX 100', 'ARJUN REDDY', 'MANGALVARAM']\n"
     ]
    }
   ],
   "source": [
    "movies_cap = [movie.upper() for movie in movies]\n",
    "print(movies)\n",
    "print(movies_cap)"
   ]
  },
  {
   "cell_type": "markdown",
   "id": "9db1a5df",
   "metadata": {},
   "source": [
    "filter the movies that contains the char 'o' and strore in new list"
   ]
  },
  {
   "cell_type": "code",
   "execution_count": 9,
   "id": "cc9c57d5",
   "metadata": {},
   "outputs": [
    {
     "name": "stdout",
     "output_type": "stream",
     "text": [
      "['Pushpa', 'Kannapa', 'Jinna', 'Journey', 'Little hearts', 'Court', 'Lucky Bhaskar', 'Thammudu', 'Santhosham', 'kalisundhamraa', 'Nuv naku nachav', 'Baby', '7G Brundhavan colony', 'Remo', 'Orange', 'Rx 100', 'Arjun Reddy', 'Mangalvaram']\n",
      "['Journey', 'Court', 'Santhosham', '7G Brundhavan colony', 'Remo', 'Orange']\n"
     ]
    }
   ],
   "source": [
    "movies_with_o = []\n",
    "for item in movies:\n",
    "    if \"o\" in item or \"O\" in item:\n",
    "        movies_with_o.append(item)\n",
    "print(movies)\n",
    "print(movies_with_o)"
   ]
  },
  {
   "cell_type": "code",
   "execution_count": 10,
   "id": "76dc9d94",
   "metadata": {},
   "outputs": [
    {
     "name": "stdout",
     "output_type": "stream",
     "text": [
      "['Pushpa', 'Kannapa', 'Jinna', 'Journey', 'Little hearts', 'Court', 'Lucky Bhaskar', 'Thammudu', 'Santhosham', 'kalisundhamraa', 'Nuv naku nachav', 'Baby', '7G Brundhavan colony', 'Remo', 'Orange', 'Rx 100', 'Arjun Reddy', 'Mangalvaram']\n",
      "['Journey', 'Little hearts', 'Remo', 'Orange', 'Arjun Reddy']\n"
     ]
    }
   ],
   "source": [
    "movies_with_e = [nm for nm in movies if \"e\" in nm or \"E\" in nm]\n",
    "print(movies)\n",
    "print(movies_with_e)"
   ]
  },
  {
   "cell_type": "code",
   "execution_count": null,
   "id": "0eb7fa87",
   "metadata": {},
   "outputs": [],
   "source": []
  }
 ],
 "metadata": {
  "kernelspec": {
   "display_name": "Python 3",
   "language": "python",
   "name": "python3"
  },
  "language_info": {
   "codemirror_mode": {
    "name": "ipython",
    "version": 3
   },
   "file_extension": ".py",
   "mimetype": "text/x-python",
   "name": "python",
   "nbconvert_exporter": "python",
   "pygments_lexer": "ipython3",
   "version": "3.11.4"
  }
 },
 "nbformat": 4,
 "nbformat_minor": 5
}
