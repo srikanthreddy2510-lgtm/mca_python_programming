{
 "cells": [
  {
   "cell_type": "code",
   "execution_count": 3,
   "id": "f4a56b88",
   "metadata": {},
   "outputs": [
    {
     "name": "stdout",
     "output_type": "stream",
     "text": [
      "\n",
      "Before swapping: var1 = 5, var2 = 6\n",
      "After swapping: var1 = 6, var2 = 5\n"
     ]
    }
   ],
   "source": [
    "# Swapping Variables\n",
    "var1 = input(\"Enter the first variable: \")\n",
    "var2 = input(\"Enter the second variable: \")\n",
    "print(f\"\\nBefore swapping: var1 = {var1}, var2 = {var2}\")\n",
    "temp = var1\n",
    "var1 = var2\n",
    "var2 = temp\n",
    "print(f\"After swapping: var1 = {var1}, var2 = {var2}\")"
   ]
  },
  {
   "cell_type": "code",
   "execution_count": null,
   "id": "7edb57eb",
   "metadata": {},
   "outputs": [
    {
     "name": "stdout",
     "output_type": "stream",
     "text": [
      "Result: 35\n"
     ]
    }
   ],
   "source": [
    "# Simple Calculator (No Conditions)\n",
    "num1 = input(\"Enter first number: \")\n",
    "operator = input(\"Enter operator (+, -, *, /): \")\n",
    "num2 = input(\"Enter second number: \")\n",
    "expression = num1 + operator + num2\n",
    "result = eval(expression)\n",
    "print(\"Result:\", result)"
   ]
  },
  {
   "cell_type": "code",
   "execution_count": null,
   "id": "6522dbf0",
   "metadata": {},
   "outputs": [
    {
     "name": "stdout",
     "output_type": "stream",
     "text": [
      "Integer value: 25 Type: <class 'int'>\n",
      "Float value: 25.0 Type: <class 'float'>\n"
     ]
    }
   ],
   "source": [
    "# Type Conversion\n",
    "num_str = input(\"Enter a number: \")\n",
    "num_int = int(num_str)\n",
    "num_float = float(num_str)\n",
    "print(\"Integer value:\", num_int, \"Type:\", type(num_int))\n",
    "print(\"Float value:\", num_float, \"Type:\", type(num_float))\n"
   ]
  },
  {
   "cell_type": "code",
   "execution_count": null,
   "id": "a4ee3058",
   "metadata": {},
   "outputs": [
    {
     "name": "stdout",
     "output_type": "stream",
     "text": [
      "Root 1: (-0.9999999999999999+2j)\n",
      "Root 2: (-1.0000000000000002-2j)\n"
     ]
    }
   ],
   "source": [
    "# Quadratic Equation Roots (No Conditions)\n",
    "a = float(input(\"Enter a: \"))\n",
    "b = float(input(\"Enter b: \"))\n",
    "c = float(input(\"Enter c: \"))\n",
    "\n",
    "d = b**2 - 4*a*c\n",
    "\n",
    "root1 = (-b + complex(d)**0.5) / (2*a)\n",
    "root2 = (-b - complex(d)**0.5) / (2*a)\n",
    "\n",
    "print(\"Root 1:\", root1)\n",
    "print(\"Root 2:\", root2)\n"
   ]
  },
  {
   "cell_type": "code",
   "execution_count": null,
   "id": "1b7bed54",
   "metadata": {},
   "outputs": [
    {
     "name": "stdout",
     "output_type": "stream",
     "text": [
      "Name: Srikanth, Age: 22 years, Height: 175.5 cm\n"
     ]
    }
   ],
   "source": [
    "# Custom Data Type Formatter\n",
    "name = input(\"Enter your name: \")\n",
    "age = int(input(\"Enter your age: \"))\n",
    "height = float(input(\"Enter your height in cm: \"))\n",
    "\n",
    "print(f\"Name: {name}, Age: {age} years, Height: {height} cm\")\n"
   ]
  },
  {
   "cell_type": "code",
   "execution_count": null,
   "id": "97f7905f",
   "metadata": {},
   "outputs": [
    {
     "name": "stdout",
     "output_type": "stream",
     "text": [
      "Result: 8.0\n"
     ]
    }
   ],
   "source": [
    "# Complex Expression Evaluator\n",
    "num1 = float(input(\"Enter first number: \"))\n",
    "num2 = float(input(\"Enter second number: \"))\n",
    "num3 = float(input(\"Enter third number: \"))\n",
    "\n",
    "result = ((num1 + num2) * num3) / (num1 - num2)\n",
    "\n",
    "print(\"Result:\", round(result, 2))"
   ]
  },
  {
   "cell_type": "code",
   "execution_count": null,
   "id": "f9633984",
   "metadata": {},
   "outputs": [
    {
     "name": "stdout",
     "output_type": "stream",
     "text": [
      "Sum: 30.0\n"
     ]
    }
   ],
   "source": [
    "# Sum of Two Numbers\n",
    "num1 = float(input(\"Enter first number: \"))\n",
    "num2 = float(input(\"Enter second number: \"))\n",
    "\n",
    "sum_result = num1 + num2\n",
    "\n",
    "print(\"Sum:\", sum_result)"
   ]
  },
  {
   "cell_type": "code",
   "execution_count": 1,
   "id": "a7164e8c",
   "metadata": {},
   "outputs": [
    {
     "name": "stdout",
     "output_type": "stream",
     "text": [
      "Hello, Srikanth Reddy\n"
     ]
    }
   ],
   "source": [
    "# Take a name as input\n",
    "name = input(\"Enter your name: \")\n",
    "\n",
    "print(f\"Hello, {name}\")"
   ]
  },
  {
   "cell_type": "code",
   "execution_count": null,
   "id": "f6cc8198",
   "metadata": {},
   "outputs": [
    {
     "name": "stdout",
     "output_type": "stream",
     "text": [
      "Uppercase: SRIKANTH REDDY\n"
     ]
    }
   ],
   "source": [
    "# Uppercase String\n",
    "text = input(\"Enter a string: \")\n",
    "\n",
    "upper_text = text.upper()\n",
    "\n",
    "print(\"Uppercase:\", upper_text)"
   ]
  },
  {
   "cell_type": "code",
   "execution_count": null,
   "id": "2f46457e",
   "metadata": {},
   "outputs": [
    {
     "name": "stdout",
     "output_type": "stream",
     "text": [
      "Square: 49.0\n"
     ]
    }
   ],
   "source": [
    "# Square of a Number\n",
    "num = float(input(\"Enter a number: \"))\n",
    "\n",
    "square = num ** 2\n",
    "\n",
    "print(\"Square:\", square)"
   ]
  },
  {
   "cell_type": "code",
   "execution_count": null,
   "id": "2f02940a",
   "metadata": {},
   "outputs": [
    {
     "name": "stdout",
     "output_type": "stream",
     "text": [
      "Concatenated String: SrikanthReddy\n"
     ]
    }
   ],
   "source": [
    "# \n",
    "str1 = input(\"Enter first string: \")\n",
    "str2 = input(\"Enter second string: \")\n",
    "\n",
    "result = str1 + str2\n",
    "\n",
    "print(\"Concatenated String:\", result)"
   ]
  },
  {
   "cell_type": "code",
   "execution_count": 13,
   "id": "3c91545b",
   "metadata": {},
   "outputs": [
    {
     "name": "stdout",
     "output_type": "stream",
     "text": [
      "Integer equivalent: 12\n"
     ]
    }
   ],
   "source": [
    "num = float(input(\"Enter a float number: \"))\n",
    "\n",
    "num_int = int(num)\n",
    "\n",
    "print(\"Integer equivalent:\", num_int)"
   ]
  },
  {
   "cell_type": "code",
   "execution_count": 14,
   "id": "3db5ed2d",
   "metadata": {},
   "outputs": [
    {
     "name": "stdout",
     "output_type": "stream",
     "text": [
      "You are 21 years old\n"
     ]
    }
   ],
   "source": [
    "age = int(input(\"Enter your age: \"))\n",
    "\n",
    "print(f\"You are {age} years old\")"
   ]
  },
  {
   "cell_type": "code",
   "execution_count": 15,
   "id": "059ff6e7",
   "metadata": {},
   "outputs": [
    {
     "name": "stdout",
     "output_type": "stream",
     "text": [
      "Product: 30.0\n"
     ]
    }
   ],
   "source": [
    "num1 = float(input(\"Enter first number: \"))\n",
    "num2 = float(input(\"Enter second number: \"))\n",
    "\n",
    "product = num1 * num2\n",
    "\n",
    "print(\"Product:\", product)"
   ]
  },
  {
   "cell_type": "code",
   "execution_count": 16,
   "id": "4223b7de",
   "metadata": {},
   "outputs": [
    {
     "name": "stdout",
     "output_type": "stream",
     "text": [
      "Length of the sentence: 11\n"
     ]
    }
   ],
   "source": [
    "sentence = input(\"Enter a sentence: \")\n",
    "\n",
    "length = len(sentence)\n",
    "\n",
    "print(\"Length of the sentence:\", length)"
   ]
  },
  {
   "cell_type": "code",
   "execution_count": 17,
   "id": "de126063",
   "metadata": {},
   "outputs": [
    {
     "name": "stdout",
     "output_type": "stream",
     "text": [
      "Average: 20.0\n"
     ]
    }
   ],
   "source": [
    "num1 = float(input(\"Enter first number: \"))\n",
    "num2 = float(input(\"Enter second number: \"))\n",
    "num3 = float(input(\"Enter third number: \"))\n",
    "\n",
    "average = (num1 + num2 + num3) / 3\n",
    "\n",
    "print(\"Average:\", average)"
   ]
  },
  {
   "cell_type": "code",
   "execution_count": 19,
   "id": "9a90f232",
   "metadata": {},
   "outputs": [
    {
     "name": "stdout",
     "output_type": "stream",
     "text": [
      "Absolute value: 15.7\n"
     ]
    }
   ],
   "source": [
    "num = float(input(\"Enter a number: \"))\n",
    "\n",
    "absolute_value = abs(num)\n",
    "\n",
    "print(\"Absolute value:\", absolute_value)"
   ]
  },
  {
   "cell_type": "code",
   "execution_count": 21,
   "id": "aca67bfa",
   "metadata": {},
   "outputs": [
    {
     "name": "stdout",
     "output_type": "stream",
     "text": [
      "Difference: 15.0\n"
     ]
    }
   ],
   "source": [
    "num1 = float(input(\"Enter first number: \"))\n",
    "num2 = float(input(\"Enter second number: \"))\n",
    "\n",
    "difference = num1 - num2\n",
    "\n",
    "print(\"Difference:\", difference)"
   ]
  },
  {
   "cell_type": "code",
   "execution_count": 22,
   "id": "f6629a0b",
   "metadata": {},
   "outputs": [
    {
     "name": "stdout",
     "output_type": "stream",
     "text": [
      "Reversed string: htnakirS\n"
     ]
    }
   ],
   "source": [
    "text = input(\"Enter a string: \")\n",
    "\n",
    "reversed_text = text[::-1]\n",
    "\n",
    "print(\"Reversed string:\", reversed_text)"
   ]
  },
  {
   "cell_type": "code",
   "execution_count": 23,
   "id": "b2efc8a9",
   "metadata": {},
   "outputs": [
    {
     "name": "stdout",
     "output_type": "stream",
     "text": [
      "Height in meters: 1.75\n"
     ]
    }
   ],
   "source": [
    "height_cm = float(input(\"Enter height in centimeters: \"))\n",
    "\n",
    "height_m = height_cm / 100\n",
    "\n",
    "print(\"Height in meters:\", height_m)"
   ]
  },
  {
   "cell_type": "code",
   "execution_count": 24,
   "id": "aef5eada",
   "metadata": {},
   "outputs": [
    {
     "name": "stdout",
     "output_type": "stream",
     "text": [
      "Quotient: 4.0\n"
     ]
    }
   ],
   "source": [
    "num1 = float(input(\"Enter first number: \"))\n",
    "num2 = float(input(\"Enter second number: \"))\n",
    "\n",
    "quotient = num1 / num2\n",
    "\n",
    "print(\"Quotient:\", quotient)"
   ]
  },
  {
   "cell_type": "code",
   "execution_count": 25,
   "id": "0742ef35",
   "metadata": {},
   "outputs": [
    {
     "name": "stdout",
     "output_type": "stream",
     "text": [
      "\"Srikanth\"\n"
     ]
    }
   ],
   "source": [
    "name = input(\"Enter your name: \")\n",
    "\n",
    "print(f'\"{name}\"')"
   ]
  },
  {
   "cell_type": "code",
   "execution_count": 26,
   "id": "0e40625b",
   "metadata": {},
   "outputs": [
    {
     "name": "stdout",
     "output_type": "stream",
     "text": [
      "Rounded number: 12.35\n"
     ]
    }
   ],
   "source": [
    "num = float(input(\"Enter a number: \"))\n",
    "\n",
    "rounded_num = round(num, 2)\n",
    "\n",
    "print(\"Rounded number:\", rounded_num)"
   ]
  },
  {
   "cell_type": "code",
   "execution_count": 27,
   "id": "a35a6dd9",
   "metadata": {},
   "outputs": [
    {
     "name": "stdout",
     "output_type": "stream",
     "text": [
      "Hello  World\n"
     ]
    }
   ],
   "source": [
    "str1 = input(\"Enter first string: \")\n",
    "str2 = input(\"Enter second string: \")\n",
    "\n",
    "print(f\"{str1} {str2}\")"
   ]
  },
  {
   "cell_type": "code",
   "execution_count": 29,
   "id": "fbecaf56",
   "metadata": {},
   "outputs": [
    {
     "name": "stdout",
     "output_type": "stream",
     "text": [
      "Type of input: <class 'str'>\n"
     ]
    }
   ],
   "source": [
    "value = input(\"Enter anything: \")\n",
    "\n",
    "print(\"Type of input:\", type(value))"
   ]
  },
  {
   "cell_type": "code",
   "execution_count": 30,
   "id": "981fa52f",
   "metadata": {},
   "outputs": [
    {
     "name": "stdout",
     "output_type": "stream",
     "text": [
      "Sum: 16.0\n",
      "Product: 150.0\n"
     ]
    }
   ],
   "source": [
    "num1 = float(input(\"Enter first number: \"))\n",
    "num2 = float(input(\"Enter second number: \"))\n",
    "num3 = float(input(\"Enter third number: \"))\n",
    "\n",
    "sum_result = num1 + num2 + num3\n",
    "product_result = num1 * num2 * num3\n",
    "\n",
    "print(\"Sum:\", sum_result)\n",
    "print(\"Product:\", product_result)"
   ]
  }
 ],
 "metadata": {
  "kernelspec": {
   "display_name": "Python 3",
   "language": "python",
   "name": "python3"
  },
  "language_info": {
   "codemirror_mode": {
    "name": "ipython",
    "version": 3
   },
   "file_extension": ".py",
   "mimetype": "text/x-python",
   "name": "python",
   "nbconvert_exporter": "python",
   "pygments_lexer": "ipython3",
   "version": "3.11.4"
  }
 },
 "nbformat": 4,
 "nbformat_minor": 5
}
