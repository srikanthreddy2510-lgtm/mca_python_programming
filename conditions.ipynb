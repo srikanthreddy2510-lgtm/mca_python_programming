{
 "cells": [
  {
   "cell_type": "markdown",
   "id": "2a43ee39",
   "metadata": {},
   "source": [
    "# Conditions\n",
    "In python there are 4 conditional statements \n",
    "- if\n",
    "- if-else\n",
    "- if-elif\n",
    "- match case"
   ]
  },
  {
   "cell_type": "code",
   "execution_count": 2,
   "id": "b8c9b645",
   "metadata": {},
   "outputs": [
    {
     "name": "stdout",
     "output_type": "stream",
     "text": [
      "value  => 200\n"
     ]
    }
   ],
   "source": [
    "data = int(input(\"enter data value\"))\n",
    "print(f\"value  => {data}\")"
   ]
  },
  {
   "cell_type": "code",
   "execution_count": 11,
   "id": "f839dfab",
   "metadata": {},
   "outputs": [
    {
     "name": "stdout",
     "output_type": "stream",
     "text": [
      "you see a apple seller\n",
      "purchase 2kg of apples\n"
     ]
    }
   ],
   "source": [
    "print(\"you see a apple seller\")\n",
    "q = input(\"Do you like apples ?\")\n",
    "if q == \"yes\" :\n",
    "    print(\"purchase 2kg of apples\")\n",
    "if q == \"no\" :\n",
    "    print(\"you don't purchase apples\")\n",
    "    "
   ]
  },
  {
   "cell_type": "code",
   "execution_count": 19,
   "id": "b6c71d0b",
   "metadata": {},
   "outputs": [
    {
     "ename": "NameError",
     "evalue": "name 'da' is not defined",
     "output_type": "error",
     "traceback": [
      "\u001b[31m---------------------------------------------------------------------------\u001b[39m",
      "\u001b[31mNameError\u001b[39m                                 Traceback (most recent call last)",
      "\u001b[36mCell\u001b[39m\u001b[36m \u001b[39m\u001b[32mIn[19]\u001b[39m\u001b[32m, line 4\u001b[39m\n\u001b[32m      2\u001b[39m \u001b[38;5;28;01mif\u001b[39;00m salary > \u001b[32m50000\u001b[39m:\n\u001b[32m      3\u001b[39m     da = \u001b[32m.15\u001b[39m                 \u001b[38;5;66;03m#15% dearness allowance\u001b[39;00m\n\u001b[32m----> \u001b[39m\u001b[32m4\u001b[39m total = salary + salary * \u001b[43mda\u001b[49m\n\u001b[32m      5\u001b[39m \u001b[38;5;28mprint\u001b[39m(\u001b[33mf\u001b[39m\u001b[33m\"\u001b[39m\u001b[33mtotal salary is \u001b[39m\u001b[38;5;132;01m{\u001b[39;00mtotal\u001b[38;5;132;01m}\u001b[39;00m\u001b[33m\"\u001b[39m)\n",
      "\u001b[31mNameError\u001b[39m: name 'da' is not defined"
     ]
    }
   ],
   "source": [
    "salary = 42000\n",
    "if salary > 50000:\n",
    "    da = .15                 #15% dearness allowance\n",
    "total = salary + salary * da\n",
    "print(f\"total salary is {total}\")"
   ]
  },
  {
   "cell_type": "code",
   "execution_count": 18,
   "id": "64cd1d6e",
   "metadata": {},
   "outputs": [],
   "source": [
    "del da"
   ]
  },
  {
   "cell_type": "code",
   "execution_count": null,
   "id": "59647815",
   "metadata": {},
   "outputs": [
    {
     "name": "stdout",
     "output_type": "stream",
     "text": [
      "total salary is 42000\n"
     ]
    }
   ],
   "source": [
    "# solution 1 - create the da variable befote condition\n",
    "salary = 42000\n",
    "da = 0\n",
    "if salary > 50000:\n",
    "    da = .15                 #15% dearness allowance\n",
    "total = salary + salary * da\n",
    "print(f\"total salary is {total}\")"
   ]
  },
  {
   "cell_type": "code",
   "execution_count": 4,
   "id": "716d7997",
   "metadata": {},
   "outputs": [
    {
     "name": "stdout",
     "output_type": "stream",
     "text": [
      "total salary is 42000\n"
     ]
    }
   ],
   "source": [
    "# Solution 2 - use if else\n",
    "salary = 42000\n",
    "if salary > 50000:\n",
    "    da = .15\n",
    "    total = salary + salary * da\n",
    "else:\n",
    "    total = salary\n",
    "print(f\"total salary is {total}\")"
   ]
  },
  {
   "cell_type": "code",
   "execution_count": null,
   "id": "cea2329f",
   "metadata": {},
   "outputs": [
    {
     "name": "stdout",
     "output_type": "stream",
     "text": [
      "total salary is 42000\n"
     ]
    }
   ],
   "source": [
    "# Solution 2 - use if else with their print\n",
    "salary = 42000\n",
    "if salary > 50000:\n",
    "    da = .15\n",
    "    total = salary + salary * da\n",
    "    print(f\"total salary is {total}\")\n",
    "else:\n",
    "    total = salary\n",
    "    print(f\"total salary is {total}\")"
   ]
  },
  {
   "cell_type": "code",
   "execution_count": 14,
   "id": "513dda7b",
   "metadata": {},
   "outputs": [
    {
     "name": "stdout",
     "output_type": "stream",
     "text": [
      "5\n"
     ]
    }
   ],
   "source": [
    "x = int(input(\"Enter a Number\"))\n",
    "y = int(input(\"Enter a Number\"))\n",
    "if x > y:\n",
    "    a = x - y\n",
    "else:\n",
    "    a = y - x\n",
    "print(a)\n"
   ]
  },
  {
   "cell_type": "code",
   "execution_count": 20,
   "id": "2f8173be",
   "metadata": {},
   "outputs": [
    {
     "name": "stdout",
     "output_type": "stream",
     "text": [
      " long movie name: Interstellar\n",
      "the end\n"
     ]
    }
   ],
   "source": [
    "name = input(\"Enter your fav movie\")\n",
    "if len(name) > 10:\n",
    "    print(f\" long movie name: {name}\")\n",
    "else:\n",
    "    print(f\" short movie name: {name}\")\n",
    "print(\"the end\")"
   ]
  },
  {
   "cell_type": "markdown",
   "id": "ed9c1c18",
   "metadata": {},
   "source": [
    "### handling multiple conditions using if-else"
   ]
  },
  {
   "cell_type": "code",
   "execution_count": 18,
   "id": "33ba324a",
   "metadata": {},
   "outputs": [
    {
     "name": "stdout",
     "output_type": "stream",
     "text": [
      "What is the capital of India ?\n",
      "You are very correct\n"
     ]
    }
   ],
   "source": [
    "print(\"What is the capital of India ?\")\n",
    "answer = input(\"Answer\")\n",
    "if answer == \"Delhi\":\n",
    "    print(\"You are correct\")\n",
    "if answer == \"New Delhi\":\n",
    "    print(\"You are very correct\")\n",
    "if answer == \"I don't know\":\n",
    "    print(\"U must be sleeping under a rock\")\n",
    "if answer == \"Shimla\":\n",
    "    print(\"You must be from Britain\")"
   ]
  },
  {
   "cell_type": "code",
   "execution_count": 35,
   "id": "2894bbb5",
   "metadata": {},
   "outputs": [
    {
     "name": "stdout",
     "output_type": "stream",
     "text": [
      "Your grade: A\n",
      "Your grade: B\n",
      "Your grade: C\n",
      "Your grade: D\n"
     ]
    }
   ],
   "source": [
    "marks = int(input(\"Enter your total marks in 10th : \"))\n",
    "if marks > 90:\n",
    "    print(\"Your grade: A\")\n",
    "if marks > 75:\n",
    "    print(\"Your grade: B\")\n",
    "if marks > 60:\n",
    "    print(\"Your grade: C\")\n",
    "if marks > 40:\n",
    "    print(\"Your grade: D\")\n",
    "if marks <= 40:\n",
    "    print(\"You failed ☠️\")"
   ]
  },
  {
   "cell_type": "code",
   "execution_count": 28,
   "id": "3c0acd4e",
   "metadata": {},
   "outputs": [
    {
     "name": "stdout",
     "output_type": "stream",
     "text": [
      "Your grade: A\n"
     ]
    }
   ],
   "source": [
    "marks = int(input(\"Enter your total marks in 10th : \"))\n",
    "if marks > 90:\n",
    "    print(\"Your grade: A\")\n",
    "elif marks > 75:\n",
    "    print(\"Your grade: B\")\n",
    "elif marks > 60:\n",
    "    print(\"Your grade: C\")\n",
    "elif marks > 40:\n",
    "    print(\"Your grade: D\")\n",
    "elif marks < 40:\n",
    "    print(\"You failed ☠️\")"
   ]
  },
  {
   "cell_type": "code",
   "execution_count": 34,
   "id": "176d027d",
   "metadata": {},
   "outputs": [
    {
     "name": "stdout",
     "output_type": "stream",
     "text": [
      "Your grade: A\n"
     ]
    }
   ],
   "source": [
    "## without elif\n",
    "marks = int(input(\"Enter your total marks in 10th : \"))\n",
    "if marks > 90 and marks <=100:\n",
    "    print(\"Your grade: A\")\n",
    "if marks > 75 and marks <=90:\n",
    "    print(\"Your grade: B\")\n",
    "if marks > 60 and marks <=75:\n",
    "    print(\"Your grade: C\")\n",
    "if marks > 40 and marks <=60:\n",
    "    print(\"Your grade: D\")\n",
    "if marks <= 40:\n",
    "    print(\"You failed ☠️\")"
   ]
  },
  {
   "cell_type": "code",
   "execution_count": 40,
   "id": "920bb2d5",
   "metadata": {},
   "outputs": [
    {
     "name": "stdout",
     "output_type": "stream",
     "text": [
      "frnds salary => 78870\n",
      "frnds total => 74926.5\n"
     ]
    }
   ],
   "source": [
    "salary = int(input(\"Enter your frnds salary\"))\n",
    "if salary > 100000:\n",
    "    total = salary - salary * .2    #frnds tax 20%\n",
    "elif salary > 80000:\n",
    "    total = salary - salary * .1\n",
    "elif salary > 50000:\n",
    "    total = salary - salary * .05\n",
    "else:\n",
    "    total = salary + 10000\n",
    "print(f'frnds salary => {salary}')\n",
    "print(f'frnds total => {total}')"
   ]
  },
  {
   "cell_type": "markdown",
   "id": "06bb402e",
   "metadata": {},
   "source": [
    "Match case"
   ]
  },
  {
   "cell_type": "code",
   "execution_count": 3,
   "id": "98dc62f7",
   "metadata": {},
   "outputs": [
    {
     "name": "stdout",
     "output_type": "stream",
     "text": [
      "It's not an option\n"
     ]
    }
   ],
   "source": [
    "day = input(\"What is the day today ?\")\n",
    "match day:\n",
    "    case \"Monday\": print(\"Today is Monday! Boring\")\n",
    "    case \"Sunday\": print(\"Holiday\")\n",
    "    case \"Friday\": print(\"Waiting for the Weekend\")\n",
    "    case \"Saturday\": print(\"The best day of the Week\")\n",
    "    case default: print(\"It's not an option\")"
   ]
  },
  {
   "cell_type": "code",
   "execution_count": 7,
   "id": "d5ecd28b",
   "metadata": {},
   "outputs": [
    {
     "name": "stdout",
     "output_type": "stream",
     "text": [
      "Tell me some Movies\n",
      "You should not watch any movies\n"
     ]
    }
   ],
   "source": [
    "print(\"Tell me some Movies\")\n",
    "genre = input(\"What genre do you like?\")\n",
    "match genre:\n",
    "    case \"action\":\n",
    "        print(\"Avengers, Deadpool, Fast & Furious\")\n",
    "    case \"horror\":\n",
    "        print(\"IT, Nun, Stree\")\n",
    "    case \"fantasy\":\n",
    "        print(\"Lord of the ring series, Harry potter series\")\n",
    "    case \"sci-fi\" | \"comedy\":\n",
    "        print(\"Adam Project, Nimona, Interstellar\")\n",
    "    case default:\n",
    "        print(\"You should not watch any movies\")"
   ]
  },
  {
   "cell_type": "code",
   "execution_count": 16,
   "id": "160306e4",
   "metadata": {},
   "outputs": [
    {
     "name": "stdout",
     "output_type": "stream",
     "text": [
      "The bear destroyed you\n"
     ]
    }
   ],
   "source": [
    "ans = input(\"You see a bear, would like to fight it y/n?\")\n",
    "if ans == \"n\":\n",
    "    print(\"You escaped and find a lion\")\n",
    "    ans2 = input(\"You want to fight it y/n?\")\n",
    "    if ans2 == \"n\":\n",
    "        print(\"You escaped again, and find a car\")\n",
    "        ans3 = input(\"You want to drive it y/n?\")\n",
    "        if ans3 == \"y\":\n",
    "            print(\"You escaped the area\")\n",
    "        else:\n",
    "            print(\"The bear and lion catch and kill you\")\n",
    "    else:\n",
    "        print(\"You failed miserably and died\")\n",
    "else:\n",
    "    print(\"The bear destroyed you\")"
   ]
  },
  {
   "cell_type": "code",
   "execution_count": 17,
   "id": "32bc3c88",
   "metadata": {},
   "outputs": [
    {
     "name": "stdout",
     "output_type": "stream",
     "text": [
      "The total is 28\n"
     ]
    }
   ],
   "source": [
    "a, b, c = 10, 5, 23\n",
    "if a > b:\n",
    "    if a > c:\n",
    "        total = a + b + c\n",
    "        if total > 100:\n",
    "            print(f\"The total is big value = {total}\")\n",
    "        else:\n",
    "            print(f\"The total is small value = {total}\")\n",
    "    else:\n",
    "        total = c + b\n",
    "        print(f\"The total is {total}\")\n",
    "else:\n",
    "    print(\"The total was not calculated\")"
   ]
  }
 ],
 "metadata": {
  "kernelspec": {
   "display_name": "Python 3",
   "language": "python",
   "name": "python3"
  },
  "language_info": {
   "codemirror_mode": {
    "name": "ipython",
    "version": 3
   },
   "file_extension": ".py",
   "mimetype": "text/x-python",
   "name": "python",
   "nbconvert_exporter": "python",
   "pygments_lexer": "ipython3",
   "version": "3.11.4"
  }
 },
 "nbformat": 4,
 "nbformat_minor": 5
}
