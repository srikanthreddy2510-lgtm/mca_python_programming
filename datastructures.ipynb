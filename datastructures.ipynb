{
 "cells": [
  {
   "cell_type": "code",
   "execution_count": 11,
   "id": "64438cc6",
   "metadata": {},
   "outputs": [],
   "source": [
    "x = []          #empty\n",
    "x = list()      #empty\n",
    "y = [1, 2, 3]   #direct initialization"
   ]
  },
  {
   "cell_type": "code",
   "execution_count": 10,
   "id": "0f5b00d1",
   "metadata": {},
   "outputs": [
    {
     "name": "stdout",
     "output_type": "stream",
     "text": [
      "['apple', 'Cherry', 'Avacado']\n"
     ]
    }
   ],
   "source": [
    "z = []\n",
    "z.append(\"apple\")   #adding single value\n",
    "z.append(\"Cherry\")\n",
    "z.append(\"Avacado\")\n",
    "print(z)"
   ]
  },
  {
   "cell_type": "code",
   "execution_count": 2,
   "id": "4c512148",
   "metadata": {},
   "outputs": [
    {
     "name": "stdout",
     "output_type": "stream",
     "text": [
      "[1, 2, 3] [4, 5, 6] [1, 2, 3, 4, 5, 6]\n"
     ]
    }
   ],
   "source": [
    "x = [1, 2, 3]\n",
    "y = [4, 5, 6]\n",
    "z = x + y       #concatenate list\n",
    "print(x, y, z)"
   ]
  },
  {
   "cell_type": "code",
   "execution_count": 3,
   "id": "c5da85ed",
   "metadata": {},
   "outputs": [
    {
     "name": "stdout",
     "output_type": "stream",
     "text": [
      "[1, 1, 1, 1, 1, 1, 1, 1, 1, 1]\n",
      "[1, 2, 1, 2, 1, 2, 1, 2, 1, 2]\n",
      "[1, 1, 1, 1, 1, 1, 1, 1, 1, 1, 1, 1, 1, 1, 1, 1, 1, 1, 1, 1]\n"
     ]
    }
   ],
   "source": [
    "#list of duplicates\n",
    "a = [1] * 10        #cloning\n",
    "print(a)\n",
    "b = [1, 2]* 5\n",
    "c = a * 2\n",
    "print(b)\n",
    "print(c)"
   ]
  },
  {
   "cell_type": "code",
   "execution_count": 8,
   "id": "8739c3a0",
   "metadata": {},
   "outputs": [
    {
     "name": "stdout",
     "output_type": "stream",
     "text": [
      "[1, 1, 1, 1, 1, 1, 1, 1, 1, 1]\n",
      "1\n",
      "1\n",
      "1\n",
      "1\n",
      "1\n",
      "1\n",
      "1\n",
      "1\n",
      "1\n",
      "1\n"
     ]
    }
   ],
   "source": [
    "#Disleying\n",
    "print(a)\n",
    "#diaplaying single item at a time very loop\n",
    "for item in a:\n",
    "    print(item)\n",
    "\n",
    "\n",
    "    "
   ]
  },
  {
   "cell_type": "code",
   "execution_count": 6,
   "id": "1f1267c5",
   "metadata": {},
   "outputs": [
    {
     "name": "stdout",
     "output_type": "stream",
     "text": [
      "1\n",
      "1 1\n"
     ]
    }
   ],
   "source": [
    "#Single element using index\n",
    "print(a[0])\n",
    "print(a[3], a[5])"
   ]
  },
  {
   "cell_type": "code",
   "execution_count": null,
   "id": "7b0be285",
   "metadata": {},
   "outputs": [],
   "source": [
    "student = [\"Srikanth\", \"Ajay\", \"Bhargav\", \"Ram\", \"Yaswanth\", \"Ram\", \"\"]"
   ]
  }
 ],
 "metadata": {
  "kernelspec": {
   "display_name": "Python 3",
   "language": "python",
   "name": "python3"
  },
  "language_info": {
   "codemirror_mode": {
    "name": "ipython",
    "version": 3
   },
   "file_extension": ".py",
   "mimetype": "text/x-python",
   "name": "python",
   "nbconvert_exporter": "python",
   "pygments_lexer": "ipython3",
   "version": "3.11.4"
  }
 },
 "nbformat": 4,
 "nbformat_minor": 5
}
