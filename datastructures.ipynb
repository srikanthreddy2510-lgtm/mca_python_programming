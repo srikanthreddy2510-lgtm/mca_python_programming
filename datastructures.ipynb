{
 "cells": [
  {
   "cell_type": "code",
   "execution_count": 1,
   "id": "64438cc6",
   "metadata": {},
   "outputs": [],
   "source": [
    "x = []          #empty\n",
    "x = list()      #empty\n",
    "y = [1, 2, 3]   #direct initialization"
   ]
  },
  {
   "cell_type": "code",
   "execution_count": 2,
   "id": "0f5b00d1",
   "metadata": {},
   "outputs": [
    {
     "name": "stdout",
     "output_type": "stream",
     "text": [
      "['apple', 'Cherry', 'Avacado']\n"
     ]
    }
   ],
   "source": [
    "z = []\n",
    "z.append(\"apple\")   #adding single value\n",
    "z.append(\"Cherry\")\n",
    "z.append(\"Avacado\")\n",
    "print(z)"
   ]
  },
  {
   "cell_type": "code",
   "execution_count": 3,
   "id": "4c512148",
   "metadata": {},
   "outputs": [
    {
     "name": "stdout",
     "output_type": "stream",
     "text": [
      "[1, 2, 3] [4, 5, 6] [1, 2, 3, 4, 5, 6]\n"
     ]
    }
   ],
   "source": [
    "x = [1, 2, 3]\n",
    "y = [4, 5, 6]\n",
    "z = x + y       #concatenate list\n",
    "print(x, y, z)"
   ]
  },
  {
   "cell_type": "code",
   "execution_count": 4,
   "id": "c5da85ed",
   "metadata": {},
   "outputs": [
    {
     "name": "stdout",
     "output_type": "stream",
     "text": [
      "[1, 1, 1, 1, 1, 1, 1, 1, 1, 1]\n",
      "[1, 2, 1, 2, 1, 2, 1, 2, 1, 2]\n",
      "[1, 1, 1, 1, 1, 1, 1, 1, 1, 1, 1, 1, 1, 1, 1, 1, 1, 1, 1, 1]\n"
     ]
    }
   ],
   "source": [
    "#list of duplicates\n",
    "a = [1] * 10        #cloning\n",
    "print(a)\n",
    "b = [1, 2]* 5\n",
    "c = a * 2\n",
    "print(b)\n",
    "print(c)"
   ]
  },
  {
   "cell_type": "code",
   "execution_count": 5,
   "id": "8739c3a0",
   "metadata": {},
   "outputs": [
    {
     "name": "stdout",
     "output_type": "stream",
     "text": [
      "[1, 1, 1, 1, 1, 1, 1, 1, 1, 1]\n",
      "1\n",
      "1\n",
      "1\n",
      "1\n",
      "1\n",
      "1\n",
      "1\n",
      "1\n",
      "1\n",
      "1\n"
     ]
    }
   ],
   "source": [
    "#Disleying\n",
    "print(a)\n",
    "#diaplaying single item at a time very loop\n",
    "for item in a:\n",
    "    print(item)\n",
    "\n",
    "\n",
    "    "
   ]
  },
  {
   "cell_type": "code",
   "execution_count": 6,
   "id": "1f1267c5",
   "metadata": {},
   "outputs": [
    {
     "name": "stdout",
     "output_type": "stream",
     "text": [
      "1\n",
      "1 1\n"
     ]
    }
   ],
   "source": [
    "#Single element using index\n",
    "print(a[0])\n",
    "print(a[3], a[5])"
   ]
  },
  {
   "cell_type": "code",
   "execution_count": 7,
   "id": "7b0be285",
   "metadata": {},
   "outputs": [],
   "source": [
    "student = [\"Srikanth\", \"Ajay\", \"Bhargav\", \"Ram\", \"Yaswanth\", \"Ram\", \"\"]"
   ]
  },
  {
   "cell_type": "code",
   "execution_count": 8,
   "id": "c89afae8",
   "metadata": {},
   "outputs": [
    {
     "name": "stdout",
     "output_type": "stream",
     "text": [
      "['The way of king']\n",
      "['The way of king', 'The Final Empire', 'Steelheart', 'Legion']\n"
     ]
    }
   ],
   "source": [
    "books = []\n",
    "#adding one item at a time\n",
    "books.append(\"The way of king\")\n",
    "print(books)\n",
    "books.append(\"The Final Empire\")\n",
    "books.append(\"Steelheart\")\n",
    "books.append(\"Legion\")\n",
    "print(books)"
   ]
  },
  {
   "cell_type": "code",
   "execution_count": 9,
   "id": "2c47d5ab",
   "metadata": {},
   "outputs": [
    {
     "ename": "TypeError",
     "evalue": "list.append() takes exactly one argument (2 given)",
     "output_type": "error",
     "traceback": [
      "\u001b[31m---------------------------------------------------------------------------\u001b[39m",
      "\u001b[31mTypeError\u001b[39m                                 Traceback (most recent call last)",
      "\u001b[36mCell\u001b[39m\u001b[36m \u001b[39m\u001b[32mIn[9]\u001b[39m\u001b[32m, line 1\u001b[39m\n\u001b[32m----> \u001b[39m\u001b[32m1\u001b[39m \u001b[43mbooks\u001b[49m\u001b[43m.\u001b[49m\u001b[43mappend\u001b[49m\u001b[43m(\u001b[49m\u001b[33;43m\"\u001b[39;49m\u001b[33;43mHarry Potter\u001b[39;49m\u001b[33;43m\"\u001b[39;49m\u001b[43m,\u001b[49m\u001b[43m \u001b[49m\u001b[33;43m\"\u001b[39;49m\u001b[33;43mJungle book\u001b[39;49m\u001b[33;43m\"\u001b[39;49m\u001b[43m)\u001b[49m\n",
      "\u001b[31mTypeError\u001b[39m: list.append() takes exactly one argument (2 given)"
     ]
    }
   ],
   "source": [
    "books.append(\"Harry Potter\", \"Jungle book\")"
   ]
  },
  {
   "cell_type": "code",
   "execution_count": null,
   "id": "131d1fbb",
   "metadata": {},
   "outputs": [
    {
     "name": "stdout",
     "output_type": "stream",
     "text": [
      "['red', 'green', 'blue', 'yellow', 'black']\n",
      "['red', 'green', 'blue', 'yellow', 'black', 'Purple', 'Yello', 'Pink']\n"
     ]
    }
   ],
   "source": [
    "colors = [\"red\", \"green\", \"blue\"]\n",
    "colors.extend(['yellow', 'black'])\n",
    "print(colors)\n",
    "colors2=[\"Purple\", \"Yellow\", \"Pink\"]\n",
    "colors.extend(colors2)\n",
    "print(colors)"
   ]
  },
  {
   "cell_type": "code",
   "execution_count": null,
   "id": "558b8b58",
   "metadata": {},
   "outputs": [
    {
     "name": "stdout",
     "output_type": "stream",
     "text": [
      "[1, 2, 3, 4, 5, 6, 7, 8, 9, 10]\n"
     ]
    }
   ],
   "source": [
    "a = []\n",
    "for i in range(1, 11):\n",
    "    a.append(i)\n",
    "print(a)"
   ]
  },
  {
   "cell_type": "code",
   "execution_count": null,
   "id": "ce752cd1",
   "metadata": {},
   "outputs": [
    {
     "name": "stdout",
     "output_type": "stream",
     "text": [
      "['uebfe', 'dhcbeh', 'fnrjfn', 'fnjf', 'ef ']\n"
     ]
    }
   ],
   "source": [
    "movies = []\n",
    "for i in range(5):\n",
    "    movie = input(\"Enter movies\")\n",
    "    movies.append(movie)\n",
    "print(movies)"
   ]
  },
  {
   "cell_type": "code",
   "execution_count": null,
   "id": "21e4333f",
   "metadata": {},
   "outputs": [
    {
     "name": "stdout",
     "output_type": "stream",
     "text": [
      "[1, 2, 5, 10]\n",
      "[1, 2, 3, 5, 10]\n",
      "[1, 2, 3, 5, 9, 10]\n"
     ]
    }
   ],
   "source": [
    "x = [1, 5, 10]\n",
    "x.insert(1, 2)\n",
    "print(x)\n",
    "x.insert(2,3)\n",
    "print(x)\n",
    "x.insert(4,9)\n",
    "print(x)"
   ]
  },
  {
   "cell_type": "markdown",
   "id": "7d1d5873",
   "metadata": {},
   "source": [
    "List methods\n",
    "Adding Elements\n",
    "    1. append() -> add one element to the end of the list\n",
    "    2. insert() -> add one element to the specific  position\n",
    "    3. extend() -> append multiple items in a list\n",
    "Removing Elements\n",
    "    1. remove() -> remove the first occurrence of a value\n",
    "    2. pop() -> remove and retuen an element from an index\n",
    "    3. clear() -> remove all elements from the list\n",
    "\n"
   ]
  },
  {
   "cell_type": "code",
   "execution_count": null,
   "id": "46e06801",
   "metadata": {},
   "outputs": [],
   "source": [
    "books = ['Hero of Ages', 'well of Acsension', 'Warbreaker', 'Nightblood', 'Then Final Empire', 'The Way of Kinds', 'Oathbringer', 'Wind and Truth', 'Harry Potter and Globet of fire', 'New Moon', 'Kin of Thrones']"
   ]
  },
  {
   "cell_type": "code",
   "execution_count": null,
   "id": "31c40a8a",
   "metadata": {},
   "outputs": [
    {
     "name": "stdout",
     "output_type": "stream",
     "text": [
      "size of book list 11\n"
     ]
    }
   ],
   "source": [
    "print(\"size of book list\", len(books) )"
   ]
  },
  {
   "cell_type": "code",
   "execution_count": null,
   "id": "09265d51",
   "metadata": {},
   "outputs": [
    {
     "ename": "ValueError",
     "evalue": "list.remove(x): x not in list",
     "output_type": "error",
     "traceback": [
      "\u001b[31m---------------------------------------------------------------------------\u001b[39m",
      "\u001b[31mValueError\u001b[39m                                Traceback (most recent call last)",
      "\u001b[36mCell\u001b[39m\u001b[36m \u001b[39m\u001b[32mIn[8]\u001b[39m\u001b[32m, line 1\u001b[39m\n\u001b[32m----> \u001b[39m\u001b[32m1\u001b[39m \u001b[43mbooks\u001b[49m\u001b[43m.\u001b[49m\u001b[43mremove\u001b[49m\u001b[43m(\u001b[49m\u001b[33;43m\"\u001b[39;49m\u001b[33;43mNew Moon\u001b[39;49m\u001b[33;43m\"\u001b[39;49m\u001b[43m)\u001b[49m\n",
      "\u001b[31mValueError\u001b[39m: list.remove(x): x not in list"
     ]
    }
   ],
   "source": [
    "books.remove(\"New Moon\")"
   ]
  },
  {
   "cell_type": "code",
   "execution_count": null,
   "id": "216b45f3",
   "metadata": {},
   "outputs": [
    {
     "name": "stdout",
     "output_type": "stream",
     "text": [
      "['Hero of Ages', 'well of Acsension', 'Warbreaker', 'Nightblood', 'Then Final Empire', 'The Way of Kinds', 'Oathbringer', 'Wind and Truth', 'Harry Potter and Globet of fire', 'Kin of Thrones']\n"
     ]
    }
   ],
   "source": [
    "print(books)"
   ]
  },
  {
   "cell_type": "code",
   "execution_count": null,
   "id": "0c2a65ff",
   "metadata": {},
   "outputs": [
    {
     "name": "stdout",
     "output_type": "stream",
     "text": [
      "['Hero of Ages', 'well of Acsension', 'Warbreaker', 'Nightblood', 'Then Final Empire', 'The Way of Kinds', 'Wind and Truth', 'Harry Potter and Globet of fire', 'Kin of Thrones']\n"
     ]
    }
   ],
   "source": [
    "# validation based removal\n",
    "if \"Oathbringer\" in books:\n",
    "    books.remove(\"Oathbringer\")\n",
    "print(books)"
   ]
  },
  {
   "cell_type": "code",
   "execution_count": null,
   "id": "0a7157f7",
   "metadata": {},
   "outputs": [
    {
     "name": "stdout",
     "output_type": "stream",
     "text": [
      "['Hero of Ages', 'well of Acsension', 'Warbreaker', 'Nightblood', 'Then Final Empire', 'The Way of Kinds', 'Wind and Truth', 'Harry Potter and Globet of fire', 'Kin of Thrones']\n"
     ]
    }
   ],
   "source": [
    "print(books)"
   ]
  },
  {
   "cell_type": "code",
   "execution_count": null,
   "id": "79656bc7",
   "metadata": {},
   "outputs": [
    {
     "data": {
      "text/plain": [
       "'Nightblood'"
      ]
     },
     "execution_count": 11,
     "metadata": {},
     "output_type": "execute_result"
    }
   ],
   "source": [
    "books.pop(3)"
   ]
  },
  {
   "cell_type": "code",
   "execution_count": null,
   "id": "caec3031",
   "metadata": {},
   "outputs": [
    {
     "data": {
      "text/plain": [
       "'well of Acsension'"
      ]
     },
     "execution_count": 12,
     "metadata": {},
     "output_type": "execute_result"
    }
   ],
   "source": [
    "books.pop(1)"
   ]
  },
  {
   "cell_type": "code",
   "execution_count": null,
   "id": "ddb86707",
   "metadata": {},
   "outputs": [
    {
     "name": "stdout",
     "output_type": "stream",
     "text": [
      "['Hero of Ages', 'Warbreaker', 'Then Final Empire', 'The Way of Kinds', 'Wind and Truth', 'Harry Potter and Globet of fire', 'Kin of Thrones']\n",
      "7\n"
     ]
    }
   ],
   "source": [
    "print(books)\n",
    "print(len(books))"
   ]
  },
  {
   "cell_type": "code",
   "execution_count": null,
   "id": "284e1048",
   "metadata": {},
   "outputs": [
    {
     "data": {
      "text/plain": [
       "'Kin of Thrones'"
      ]
     },
     "execution_count": 15,
     "metadata": {},
     "output_type": "execute_result"
    }
   ],
   "source": [
    "# pop() without any index will remove the last element \n",
    "books.pop()"
   ]
  },
  {
   "cell_type": "code",
   "execution_count": null,
   "id": "1a280cd2",
   "metadata": {},
   "outputs": [
    {
     "name": "stdout",
     "output_type": "stream",
     "text": [
      "[]\n"
     ]
    }
   ],
   "source": [
    "books.clear()\n",
    "print(books)"
   ]
  },
  {
   "cell_type": "code",
   "execution_count": null,
   "id": "ac11cabe",
   "metadata": {},
   "outputs": [],
   "source": [
    "languages = ['c', 'Python', 'Kotlin', 'Java', 'Dart', 'Go', 'C++', 'C#', 'HTML', 'Javascript', 'Scala', 'Rust', 'Mojo', 'Assembly']\n",
    "numbers = [12, 56, 23, 67, 13, 23, 12, 56, 23, 56, 12, 34, 23, 23, 12, 34, 34, 23, 53, 92]\n",
    "data = [1, 'Apple', 2, 'Avacado', 3, 'Apricot']\n"
   ]
  },
  {
   "cell_type": "code",
   "execution_count": null,
   "id": "e4a7a9ff",
   "metadata": {},
   "outputs": [
    {
     "data": {
      "text/plain": [
       "4"
      ]
     },
     "execution_count": 18,
     "metadata": {},
     "output_type": "execute_result"
    }
   ],
   "source": [
    "numbers.count(12) # count how many times 12 occurs in list"
   ]
  },
  {
   "cell_type": "code",
   "execution_count": null,
   "id": "e7066b44",
   "metadata": {},
   "outputs": [
    {
     "name": "stdout",
     "output_type": "stream",
     "text": [
      "0\n",
      "6\n",
      "3\n"
     ]
    }
   ],
   "source": [
    "print(numbers.count(1))\n",
    "print(numbers.count(23))\n",
    "print(numbers.count(56))\n"
   ]
  },
  {
   "cell_type": "code",
   "execution_count": null,
   "id": "ddebb017",
   "metadata": {},
   "outputs": [
    {
     "data": {
      "text/plain": [
       "7"
      ]
     },
     "execution_count": 20,
     "metadata": {},
     "output_type": "execute_result"
    }
   ],
   "source": [
    "languages.index('C#') # 7th index in my list"
   ]
  },
  {
   "cell_type": "code",
   "execution_count": null,
   "id": "090c1715",
   "metadata": {},
   "outputs": [
    {
     "ename": "ValueError",
     "evalue": "'C' is not in list",
     "output_type": "error",
     "traceback": [
      "\u001b[31m---------------------------------------------------------------------------\u001b[39m",
      "\u001b[31mValueError\u001b[39m                                Traceback (most recent call last)",
      "\u001b[36mCell\u001b[39m\u001b[36m \u001b[39m\u001b[32mIn[24]\u001b[39m\u001b[32m, line 1\u001b[39m\n\u001b[32m----> \u001b[39m\u001b[32m1\u001b[39m \u001b[38;5;28mprint\u001b[39m(\u001b[43mlanguages\u001b[49m\u001b[43m.\u001b[49m\u001b[43mindex\u001b[49m\u001b[43m(\u001b[49m\u001b[33;43m\"\u001b[39;49m\u001b[33;43mC\u001b[39;49m\u001b[33;43m\"\u001b[39;49m\u001b[43m)\u001b[49m)\n\u001b[32m      2\u001b[39m \u001b[38;5;28mprint\u001b[39m(languages.index(\u001b[33m\"\u001b[39m\u001b[33mJava\u001b[39m\u001b[33m\"\u001b[39m))\n\u001b[32m      3\u001b[39m \u001b[38;5;28mprint\u001b[39m(languages.index(\u001b[33m\"\u001b[39m\u001b[33mPython\u001b[39m\u001b[33m\"\u001b[39m))\n",
      "\u001b[31mValueError\u001b[39m: 'C' is not in list"
     ]
    }
   ],
   "source": [
    "print(languages.index(\"C\"))\n",
    "print(languages.index(\"Java\"))\n",
    "print(languages.index(\"Python\"))\n",
    "#print(languages.index(\"Lisp\")) #will give error"
   ]
  },
  {
   "cell_type": "code",
   "execution_count": null,
   "id": "4d98efa3",
   "metadata": {},
   "outputs": [
    {
     "name": "stdout",
     "output_type": "stream",
     "text": [
      "Original ['c', 'Python', 'Kotlin', 'Java', 'Dart', 'Go', 'C++', 'C#', 'HTML', 'Javascript', 'Scala', 'Rust', 'Mojo', 'Assembly']\n",
      "Sorted ['Assembly', 'C#', 'C++', 'Dart', 'Go', 'HTML', 'Java', 'Javascript', 'Kotlin', 'Mojo', 'Python', 'Rust', 'Scala', 'c']\n"
     ]
    }
   ],
   "source": [
    "print(\"Original\", languages)\n",
    "languages.sort() #sort in A - Z\n",
    "print(\"Sorted\", languages)"
   ]
  },
  {
   "cell_type": "code",
   "execution_count": null,
   "id": "00c44ed7",
   "metadata": {},
   "outputs": [
    {
     "name": "stdout",
     "output_type": "stream",
     "text": [
      "Original [1, 'Apple', 2, 'Avacado', 3, 'Apricot']\n",
      "Reversed ['Apricot', 3, 'Avacado', 2, 'Apple', 1]\n"
     ]
    }
   ],
   "source": [
    "print(\"Original\", data)\n",
    "data.reverse() #reverse the list\n",
    "print(\"Reversed\", data)"
   ]
  },
  {
   "cell_type": "code",
   "execution_count": null,
   "id": "5d0b6c5a",
   "metadata": {},
   "outputs": [
    {
     "ename": "NameError",
     "evalue": "name 'numbers' is not defined",
     "output_type": "error",
     "traceback": [
      "\u001b[31m---------------------------------------------------------------------------\u001b[39m",
      "\u001b[31mNameError\u001b[39m                                 Traceback (most recent call last)",
      "\u001b[36mCell\u001b[39m\u001b[36m \u001b[39m\u001b[32mIn[1]\u001b[39m\u001b[32m, line 1\u001b[39m\n\u001b[32m----> \u001b[39m\u001b[32m1\u001b[39m \u001b[43mnumbers\u001b[49m.sort()\n\u001b[32m      2\u001b[39m \u001b[38;5;28mprint\u001b[39m(numbers)\n",
      "\u001b[31mNameError\u001b[39m: name 'numbers' is not defined"
     ]
    }
   ],
   "source": [
    "numbers.sort()\n",
    "print(numbers)"
   ]
  },
  {
   "cell_type": "code",
   "execution_count": null,
   "id": "120930ed",
   "metadata": {},
   "outputs": [
    {
     "ename": "NameError",
     "evalue": "name 'data' is not defined",
     "output_type": "error",
     "traceback": [
      "\u001b[31m---------------------------------------------------------------------------\u001b[39m",
      "\u001b[31mNameError\u001b[39m                                 Traceback (most recent call last)",
      "\u001b[36mCell\u001b[39m\u001b[36m \u001b[39m\u001b[32mIn[2]\u001b[39m\u001b[32m, line 1\u001b[39m\n\u001b[32m----> \u001b[39m\u001b[32m1\u001b[39m \u001b[43mdata\u001b[49m.sort()\n\u001b[32m      2\u001b[39m \u001b[38;5;28mprint\u001b[39m(data)\n",
      "\u001b[31mNameError\u001b[39m: name 'data' is not defined"
     ]
    }
   ],
   "source": [
    "data.sort()\n",
    "print(data)"
   ]
  },
  {
   "cell_type": "code",
   "execution_count": null,
   "id": "9e40c385",
   "metadata": {},
   "outputs": [
    {
     "name": "stdout",
     "output_type": "stream",
     "text": [
      "[1, 2, 3, 4]\n",
      "[1, 2, 3, 4]\n",
      "[1, 2, 3, 4]\n",
      "[1, 2, 3, 4]\n",
      "[1, 2, 3, 4]\n",
      "[1, 2, 3, 4, 10, 20]\n"
     ]
    }
   ],
   "source": [
    "x = [1, 2, 3, 4]\n",
    "y = x #deep copy\n",
    "z = x.copy() #shallow copy\n",
    "print(x, y, z, sep = \"\\n\")\n",
    "x.append(10)\n",
    "y.pop()\n",
    "z.append(10)\n",
    "z.append(20)\n",
    "print(x, y, z, sep = \"\\n\")"
   ]
  },
  {
   "cell_type": "code",
   "execution_count": null,
   "id": "7de5b3ac",
   "metadata": {},
   "outputs": [
    {
     "name": "stdout",
     "output_type": "stream",
     "text": [
      "['Mango', 'Apple', 'Banana', 'Orange', 'Grapes', 'Custord Apple', 'Pineapple', 'Dragan Fruit', 'Kiwi', 'Watermelon', 'Tomato', 'Brinjal', 'Carrot', 'Radish', 'Beetroot', 'Beans', 'Ladiesfinger', 'Onion', 'Chilli', 'Drumstick', 'Money Heist', 'Game of Thrones', 'Mirzapur', 'Squid Game', 'Indori Ishq', 'Breaking Bad', 'Stranger Things', 'Wednesday', 'Wednesday-2', 'Vamppire Diaries', 'House of Dragon']\n"
     ]
    }
   ],
   "source": [
    "fruits = [\"Mango\", \"Apple\", \"Banana\", \"Orange\", \"Grapes\", \"Custord Apple\", \"Pineapple\", \"Dragan Fruit\", \"Kiwi\", \"Watermelon\",]\n",
    "veg = [\"Tomato\", \"Brinjal\", \"Carrot\", \"Radish\", \"Beetroot\", \"Beans\", \"Ladiesfinger\", \"Onion\", \"Chilli\", \"Drumstick\",]\n",
    "series = [\"Money Heist\", \"Game of Thrones\", \"Mirzapur\", \"Squid Game\", \"Indori Ishq\", \"Breaking Bad\", \"Stranger Things\", \"Wednesday\", \"Wednesday-2\", \"Vamppire Diaries\", \"House of Dragon\",]\n",
    "biglist = fruits + veg + series\n",
    "print(biglist)"
   ]
  },
  {
   "cell_type": "markdown",
   "id": "690c9d82",
   "metadata": {},
   "source": [
    "# Nested List\n",
    "list within a list"
   ]
  },
  {
   "cell_type": "code",
   "execution_count": null,
   "id": "bc1d5fd4",
   "metadata": {},
   "outputs": [
    {
     "name": "stdout",
     "output_type": "stream",
     "text": [
      "[]\n",
      "[[]]\n"
     ]
    }
   ],
   "source": [
    "x = []              # \n",
    "x2 = [[]]           # empty list --> 2 dimension\n",
    "print(x)\n",
    "print(x2)"
   ]
  },
  {
   "cell_type": "code",
   "execution_count": null,
   "id": "d1cd3f2a",
   "metadata": {},
   "outputs": [
    {
     "name": "stdout",
     "output_type": "stream",
     "text": [
      "[1, 2, 3]\n"
     ]
    }
   ],
   "source": [
    "x.append(1)\n",
    "x.append(2)\n",
    "x.append(3)\n",
    "print(x)"
   ]
  },
  {
   "cell_type": "code",
   "execution_count": null,
   "id": "4a31e18d",
   "metadata": {},
   "outputs": [
    {
     "name": "stdout",
     "output_type": "stream",
     "text": [
      "[[], 1, 1, [4, 5, 6]]\n"
     ]
    }
   ],
   "source": [
    "x2.append(1)\n",
    "x2.append\n",
    "x2.append([4, 5, 6])\n",
    "print(x2)"
   ]
  },
  {
   "cell_type": "code",
   "execution_count": null,
   "id": "ebef2a2e",
   "metadata": {},
   "outputs": [
    {
     "name": "stdout",
     "output_type": "stream",
     "text": [
      "[['red', 'green', 'blue'], ['apple', 'guava', 'blackberry'], [150, 100, 300]]\n",
      "Size of list 3\n",
      "Size of list at index 0 is 3 => ['red', 'green', 'blue']\n",
      "Size of list at index 1 is 3 => ['apple', 'guava', 'blackberry']\n",
      "Size of list at index 2 is 3 => [150, 100, 300]\n",
      "Element 0 as List 0 is red\n",
      "Element 2 as List 0 is blue\n",
      "Element 0 as List 1 is apple\n",
      "Element 1 as List 1 is guava\n"
     ]
    }
   ],
   "source": [
    "items = [\n",
    "    ['red', 'green', 'blue'],\n",
    "    ['apple', 'guava', 'blackberry'],\n",
    "    [150, 100, 300],\n",
    "]\n",
    "print(items)\n",
    "print(\"Size of list\", len(items))\n",
    "print(\"Size of list at index 0 is\", len(items[0]), \"=>\", items[0])\n",
    "print(\"Size of list at index 1 is\", len(items[1]), \"=>\", items[1])\n",
    "print(\"Size of list at index 2 is\", len(items[2]), \"=>\", items[2])\n",
    "print(\"Element 0 as List 0 is\", items[0][0])\n",
    "print(\"Element 2 as List 0 is\", items[0][2])\n",
    "print(\"Element 0 as List 1 is\", items[1][0])\n",
    "print(\"Element 1 as List 1 is\", items[1][1])"
   ]
  },
  {
   "cell_type": "code",
   "execution_count": null,
   "id": "49cfc7c3",
   "metadata": {},
   "outputs": [
    {
     "name": "stdout",
     "output_type": "stream",
     "text": [
      "[[12, 23, 45, 25], [85, 95, 25, 15], [30, 32, 35, 5]]\n",
      "Size of list 3\n",
      "Size of list at index 0 is 4 => [12, 23, 45, 25]\n",
      "Size of list at index 1 is 4 => [85, 95, 25, 15]\n",
      "Size of list at index 2 is 4 => [30, 32, 35, 5]\n",
      "Element 0 as List 0 is 12\n",
      "Element 0 as List 2 is 45\n",
      "Element 1 as List 0 is 85\n",
      "Element 1 as List 3 is 15\n",
      "Element 2 as List 1 is 32\n",
      "Element 2 as List 3 is 5\n"
     ]
    }
   ],
   "source": [
    "matrix = [\n",
    "    [12, 23, 45, 25],\n",
    "    [85, 95, 25, 15],\n",
    "    [30, 32, 35, 5],\n",
    "]\n",
    "print(matrix)\n",
    "print(\"Size of list\", len(matrix))\n",
    "print(\"Size of list at index 0 is\", len(matrix[0]), \"=>\", matrix[0])\n",
    "print(\"Size of list at index 1 is\", len(matrix[1]), \"=>\", matrix[1])\n",
    "print(\"Size of list at index 2 is\", len(matrix[2]), \"=>\", matrix[2])\n",
    "print(\"Element 0 as List 0 is\", matrix[0][0])\n",
    "print(\"Element 0 as List 2 is\", matrix[0][2])\n",
    "print(\"Element 1 as List 0 is\", matrix[1][0])\n",
    "print(\"Element 1 as List 3 is\", matrix[1][3])\n",
    "print(\"Element 2 as List 1 is\", matrix[2][1])\n",
    "print(\"Element 2 as List 3 is\", matrix[2][3])\n"
   ]
  },
  {
   "cell_type": "code",
   "execution_count": null,
   "id": "a4623170",
   "metadata": {},
   "outputs": [
    {
     "name": "stdout",
     "output_type": "stream",
     "text": [
      "[12, 23, 45, 25]\n",
      "[85, 95, 25, 15]\n",
      "[30, 32, 35, 5]\n"
     ]
    }
   ],
   "source": [
    "# not good\n",
    "print(matrix[0])\n",
    "print(matrix[1])\n",
    "print(matrix[2])\n"
   ]
  },
  {
   "cell_type": "code",
   "execution_count": null,
   "id": "7409f9c1",
   "metadata": {},
   "outputs": [
    {
     "name": "stdout",
     "output_type": "stream",
     "text": [
      "[12, 23, 45, 25]\n",
      "[85, 95, 25, 15]\n",
      "[30, 32, 35, 5]\n"
     ]
    }
   ],
   "source": [
    "# good\n",
    "for row in matrix:\n",
    "    print(row)"
   ]
  },
  {
   "cell_type": "code",
   "execution_count": null,
   "id": "b3fc608a",
   "metadata": {},
   "outputs": [
    {
     "name": "stdout",
     "output_type": "stream",
     "text": [
      "12 23 45 25 85 95 25 15 30 32 35 5 "
     ]
    }
   ],
   "source": [
    "# nested loop for nested list\n",
    "for row in matrix:\n",
    "    for val in row:\n",
    "        print(val, end=' ')"
   ]
  },
  {
   "cell_type": "code",
   "execution_count": null,
   "id": "f099ad65",
   "metadata": {},
   "outputs": [
    {
     "name": "stdout",
     "output_type": "stream",
     "text": [
      "12 23 45 25 \n",
      "85 95 25 15 \n",
      "30 32 35 5 \n"
     ]
    }
   ],
   "source": [
    "# nested loop for nested list\n",
    "for row in matrix:\n",
    "    for val in row:\n",
    "        print(val, end=' ')\n",
    "    print() # change the line after each row"
   ]
  },
  {
   "cell_type": "markdown",
   "id": "49da5fc9",
   "metadata": {},
   "source": [
    "# wap to print the sum of all the values in matrix"
   ]
  },
  {
   "cell_type": "code",
   "execution_count": null,
   "id": "2c048522",
   "metadata": {},
   "outputs": [
    {
     "name": "stdout",
     "output_type": "stream",
     "text": [
      "427\n"
     ]
    }
   ],
   "source": [
    "total = 0\n",
    "for row in matrix:\n",
    "    for val in row:\n",
    "        total += val\n",
    "print(total)"
   ]
  },
  {
   "cell_type": "markdown",
   "id": "bb68de22",
   "metadata": {
    "vscode": {
     "languageId": "bat"
    }
   },
   "source": [
    "# wap to print the product of all the values in matrix"
   ]
  },
  {
   "cell_type": "code",
   "execution_count": null,
   "id": "f0d09ed5",
   "metadata": {},
   "outputs": [
    {
     "name": "stdout",
     "output_type": "stream",
     "text": [
      "157959112500000000\n"
     ]
    }
   ],
   "source": [
    "total = 1\n",
    "for row in matrix:\n",
    "    for val in row:\n",
    "        total *= val\n",
    "print(total)"
   ]
  },
  {
   "cell_type": "markdown",
   "id": "6578a249",
   "metadata": {},
   "source": [
    "### wap to print row wise sum of matrix"
   ]
  },
  {
   "cell_type": "code",
   "execution_count": null,
   "id": "1610eddf",
   "metadata": {},
   "outputs": [
    {
     "name": "stdout",
     "output_type": "stream",
     "text": [
      "[12, 23, 45, 25] => 105\n",
      "[85, 95, 25, 15] => 220\n",
      "[30, 32, 35, 5] => 102\n"
     ]
    }
   ],
   "source": [
    "for row in matrix:\n",
    "    total = 0\n",
    "    for value in row:\n",
    "        total+=value\n",
    "    print(row, \"=>\", total) "
   ]
  },
  {
   "cell_type": "markdown",
   "id": "f092b5dd",
   "metadata": {},
   "source": [
    "### wap to print row wise average of matrix\n"
   ]
  },
  {
   "cell_type": "code",
   "execution_count": null,
   "id": "6dafd57b",
   "metadata": {},
   "outputs": [
    {
     "name": "stdout",
     "output_type": "stream",
     "text": [
      "[12, 23, 45, 25] => 26.2\n",
      "[85, 95, 25, 15] => 55.0\n",
      "[30, 32, 35, 5] => 25.5\n"
     ]
    }
   ],
   "source": [
    "for row in matrix:\n",
    "    total = 0\n",
    "    for value in row:\n",
    "        total += value\n",
    "    avg = round(total/len(row),1)\n",
    "    print(row, \"=>\", avg) "
   ]
  },
  {
   "cell_type": "markdown",
   "id": "706f51b4",
   "metadata": {},
   "source": [
    "# wap to print column wise sum of matrix"
   ]
  },
  {
   "cell_type": "code",
   "execution_count": null,
   "id": "1b37ef55",
   "metadata": {},
   "outputs": [
    {
     "name": "stdout",
     "output_type": "stream",
     "text": [
      "Column 0 => 127\n",
      "Column 1 => 150\n",
      "Column 2 => 105\n",
      "Column 3 => 45\n"
     ]
    }
   ],
   "source": [
    "size = len(matrix[0])\n",
    "for c in range(size):\n",
    "    total = 0\n",
    "    for r in range(len(matrix)):\n",
    "        total += matrix[r][c]\n",
    "    print(f\"Column {c} => {total}\")"
   ]
  },
  {
   "cell_type": "code",
   "execution_count": null,
   "id": "61b7893e",
   "metadata": {},
   "outputs": [
    {
     "name": "stdout",
     "output_type": "stream",
     "text": [
      "Column 0 => 31.75\n",
      "Column 1 => 37.5\n",
      "Column 2 => 26.25\n",
      "Column 3 => 11.25\n"
     ]
    }
   ],
   "source": [
    "size = len(matrix[0])\n",
    "for c in range(size):\n",
    "    total = 0\n",
    "    for r in range(len(matrix)):\n",
    "        total += matrix[r][c]\n",
    "    print(f\"Column {c} => {total/4}\")"
   ]
  },
  {
   "cell_type": "markdown",
   "id": "44b6d5cc",
   "metadata": {},
   "source": [
    "### wap to print the lower bound triangle of a matrix"
   ]
  },
  {
   "cell_type": "code",
   "execution_count": null,
   "id": "0223d666",
   "metadata": {},
   "outputs": [
    {
     "name": "stdout",
     "output_type": "stream",
     "text": [
      "1 \n",
      "5 6 \n",
      "9 10 11 \n",
      "13 14 15 16 \n"
     ]
    }
   ],
   "source": [
    "mat2 = [\n",
    "    [1, 2, 3, 4],\n",
    "    [5, 6, 7, 8],\n",
    "    [9, 10, 11, 12],\n",
    "    [13, 14, 15, 16]\n",
    "]\n",
    "for r in range(len(mat2)):\n",
    "    for c in range(len(mat2[0])):\n",
    "        if (c <= r):\n",
    "            print(mat2[r][c], end=' ')\n",
    "    print()"
   ]
  },
  {
   "cell_type": "markdown",
   "id": "a522d366",
   "metadata": {},
   "source": [
    "### Slicing"
   ]
  },
  {
   "cell_type": "code",
   "execution_count": null,
   "id": "ea142f72",
   "metadata": {},
   "outputs": [
    {
     "data": {
      "text/plain": [
       "[13, 15, 19, 20]"
      ]
     },
     "execution_count": 6,
     "metadata": {},
     "output_type": "execute_result"
    }
   ],
   "source": [
    "x = [11, 12, 13, 15, 19]\n",
    "x[2:len(x)]"
   ]
  },
  {
   "cell_type": "code",
   "execution_count": null,
   "id": "9ea506a7",
   "metadata": {},
   "outputs": [
    {
     "data": {
      "text/plain": [
       "['C', 'A', 'T']"
      ]
     },
     "execution_count": 15,
     "metadata": {},
     "output_type": "execute_result"
    }
   ],
   "source": [
    "x = ['E', 'D', 'U', 'C', 'A', 'T', 'I', 'O', 'N']\n",
    "\n",
    "x[-6:6]\n",
    "\n"
   ]
  },
  {
   "cell_type": "markdown",
   "id": "85ab5d46",
   "metadata": {},
   "source": [
    "slicing syntax      \n",
    "var[start:stop:step]"
   ]
  },
  {
   "cell_type": "code",
   "execution_count": null,
   "id": "0f4a7f54",
   "metadata": {},
   "outputs": [
    {
     "data": {
      "text/plain": [
       "'shake'"
      ]
     },
     "execution_count": 22,
     "metadata": {},
     "output_type": "execute_result"
    }
   ],
   "source": [
    "name = \"william shakespeare\"\n",
    "name[8:-6]"
   ]
  },
  {
   "cell_type": "code",
   "execution_count": null,
   "id": "a03a56b9",
   "metadata": {},
   "outputs": [],
   "source": [
    "name = \"william shakespeare\"\n",
    "fname=name[:7]\n",
    "lname=name[8:]"
   ]
  },
  {
   "cell_type": "code",
   "execution_count": null,
   "id": "2afae596",
   "metadata": {},
   "outputs": [
    {
     "data": {
      "text/plain": [
       "'SrikanthReddy'"
      ]
     },
     "execution_count": 12,
     "metadata": {},
     "output_type": "execute_result"
    }
   ],
   "source": [
    "name=\"S r i k a n t h R e d d y\"\n",
    "name[::2]  #even item"
   ]
  },
  {
   "cell_type": "code",
   "execution_count": null,
   "id": "875349c5",
   "metadata": {},
   "outputs": [
    {
     "data": {
      "text/plain": [
       "'            '"
      ]
     },
     "execution_count": 43,
     "metadata": {},
     "output_type": "execute_result"
    }
   ],
   "source": [
    "name=\"S r i k a n t h R e d d y\"\n",
    "name[1::2]  #odd item"
   ]
  },
  {
   "cell_type": "code",
   "execution_count": null,
   "id": "0f4a5b28",
   "metadata": {},
   "outputs": [],
   "source": [
    "name = \"Vijay deenanath chauhan\"\n",
    "fname = name[:5]\n",
    "mname = name[6:15]\n",
    "lname = name[-7:]\n"
   ]
  },
  {
   "cell_type": "code",
   "execution_count": null,
   "id": "de5b79be",
   "metadata": {},
   "outputs": [
    {
     "data": {
      "text/plain": [
       "'nahuahc htananeed yajiV'"
      ]
     },
     "execution_count": 13,
     "metadata": {},
     "output_type": "execute_result"
    }
   ],
   "source": [
    "name = \"Vijay deenanath chauhan\"\n",
    "name[::-1]"
   ]
  },
  {
   "cell_type": "code",
   "execution_count": null,
   "id": "c7c96f56",
   "metadata": {},
   "outputs": [
    {
     "name": "stdout",
     "output_type": "stream",
     "text": [
      "13\n",
      "11\n",
      "9\n",
      "7\n",
      "6\n",
      "4\n",
      "3\n",
      "2\n",
      "1\n"
     ]
    }
   ],
   "source": [
    "# Reverse print element\n",
    "x = [1, 2, 3, 4, 6, 7, 9, 11, 13]\n",
    "for item in x[::-1]:\n",
    "    print(item)"
   ]
  },
  {
   "cell_type": "code",
   "execution_count": null,
   "id": "b41cdbe4",
   "metadata": {},
   "outputs": [
    {
     "name": "stdout",
     "output_type": "stream",
     "text": [
      "[3, 2, 1]\n"
     ]
    }
   ],
   "source": [
    "#Reverse a list in place\n",
    "a = [1, 2, 3]\n",
    "a[:]    #get all elements\n",
    "a[:] = a[::-1]"
   ]
  },
  {
   "cell_type": "code",
   "execution_count": null,
   "id": "ecd653b1",
   "metadata": {},
   "outputs": [
    {
     "name": "stdout",
     "output_type": "stream",
     "text": [
      "[1, 2, 3, 4, 5] [3, 4, 5, 1, 2]\n"
     ]
    }
   ],
   "source": [
    "# Rotate a list\n",
    "x = [1, 2, 3, 4, 5]\n",
    "ans = x[2:] + x[:2]\n",
    "print(x, ans)"
   ]
  },
  {
   "cell_type": "markdown",
   "id": "a11ee5aa",
   "metadata": {},
   "source": [
    "### COMPREHENSION"
   ]
  },
  {
   "cell_type": "code",
   "execution_count": null,
   "id": "8cef470f",
   "metadata": {},
   "outputs": [
    {
     "name": "stdout",
     "output_type": "stream",
     "text": [
      "[1, 3, 4, 5] [2, 6, 8, 10]\n"
     ]
    }
   ],
   "source": [
    "x = [1, 3, 4, 5]\n",
    "x2 = []\n",
    "for i in x:\n",
    "    s = i * 2\n",
    "    x2.append(s)\n",
    "print(x, x2)"
   ]
  },
  {
   "cell_type": "code",
   "execution_count": null,
   "id": "878b4f09",
   "metadata": {},
   "outputs": [
    {
     "name": "stdout",
     "output_type": "stream",
     "text": [
      "[4, 8, 12, 16] [2, 4, 6, 8]\n"
     ]
    }
   ],
   "source": [
    "x=[4,8,12,16]\n",
    "x3=[]\n",
    "for i in x:\n",
    "    x3.append(i//2)\n",
    "print(x,x3)"
   ]
  },
  {
   "cell_type": "code",
   "execution_count": null,
   "id": "399ea856",
   "metadata": {},
   "outputs": [
    {
     "name": "stdout",
     "output_type": "stream",
     "text": [
      "[1, 2, 3]\n",
      "[4, 5, 6]\n",
      "[5]\n",
      "[1, 2, 3]\n",
      "[4, 5, 6]\n",
      "[5, 7]\n",
      "[1, 2, 3]\n",
      "[4, 5, 6]\n",
      "[5, 7, 9]\n"
     ]
    }
   ],
   "source": [
    "x=[1,2,3]\n",
    "y=[4,5,6]\n",
    "xy=[]\n",
    "for i,j in zip(x,y):\n",
    "    xy.append(i+j)\n",
    "    print(x,y,xy,sep='\\n')"
   ]
  },
  {
   "cell_type": "code",
   "execution_count": null,
   "id": "c8b24c70",
   "metadata": {},
   "outputs": [
    {
     "name": "stdout",
     "output_type": "stream",
     "text": [
      "[4, 9, 16]\n"
     ]
    }
   ],
   "source": [
    "z = [2, 3, 4]\n",
    "zsqr = []\n",
    "for i in z:\n",
    "    zsqr.append(i**2)\n",
    "print(zsqr)"
   ]
  },
  {
   "cell_type": "code",
   "execution_count": null,
   "id": "6ceaedca",
   "metadata": {},
   "outputs": [
    {
     "name": "stdout",
     "output_type": "stream",
     "text": [
      "[1, 2, 3] [2, 4, 6]\n"
     ]
    }
   ],
   "source": [
    "y = [1, 2, 3]\n",
    "y2=[i*2 for i in y]\n",
    "print(y, y2)"
   ]
  },
  {
   "cell_type": "code",
   "execution_count": 1,
   "id": "a4ddcf03",
   "metadata": {},
   "outputs": [
    {
     "name": "stdout",
     "output_type": "stream",
     "text": [
      "(1, 2, 3)\n"
     ]
    }
   ],
   "source": [
    "my_tuple = (1, 2, 3)\n",
    "print(my_tuple)"
   ]
  },
  {
   "cell_type": "code",
   "execution_count": 2,
   "id": "8f32d026",
   "metadata": {},
   "outputs": [
    {
     "name": "stdout",
     "output_type": "stream",
     "text": [
      "(1, 'Hello', 3.4)\n"
     ]
    }
   ],
   "source": [
    "# tuple with mixed data types\n",
    "my_tuple = (1, \"Hello\", 3.4)\n",
    "print(my_tuple)"
   ]
  },
  {
   "cell_type": "code",
   "execution_count": 3,
   "id": "f586346d",
   "metadata": {},
   "outputs": [
    {
     "name": "stdout",
     "output_type": "stream",
     "text": [
      "('mouse', [8, 4, 6], [1, 2, 3])\n"
     ]
    }
   ],
   "source": [
    "my_tuple = (\"mouse\", [8, 4, 6], [1, 2, 3])\n",
    "print(my_tuple)"
   ]
  },
  {
   "cell_type": "code",
   "execution_count": 5,
   "id": "01a4a45f",
   "metadata": {},
   "outputs": [
    {
     "name": "stdout",
     "output_type": "stream",
     "text": [
      "(3, 4, 6, 'Apple')\n"
     ]
    }
   ],
   "source": [
    "my_tuple = 3, 4, 6, \"Apple\"\n",
    "print(my_tuple)"
   ]
  },
  {
   "cell_type": "code",
   "execution_count": 6,
   "id": "e2b8f147",
   "metadata": {},
   "outputs": [
    {
     "name": "stdout",
     "output_type": "stream",
     "text": [
      "p\n",
      "t\n"
     ]
    }
   ],
   "source": [
    "my_tuple = ('p', 'e', 'r', 'm', 'i', 't')\n",
    "print(my_tuple[0])\n",
    "print(my_tuple[5])"
   ]
  },
  {
   "cell_type": "code",
   "execution_count": 9,
   "id": "bae6a422",
   "metadata": {},
   "outputs": [
    {
     "name": "stdout",
     "output_type": "stream",
     "text": [
      "s\n",
      "4\n"
     ]
    }
   ],
   "source": [
    "n_tuple = (\"mouse\", [5, 4, 6], (1, 2, 4))\n",
    "print(n_tuple[0][3])\n",
    "print(n_tuple[1][1])"
   ]
  },
  {
   "cell_type": "code",
   "execution_count": 10,
   "id": "1f86a98d",
   "metadata": {},
   "outputs": [
    {
     "name": "stdout",
     "output_type": "stream",
     "text": [
      "(1, 2, 3, 4, 5, 6)\n"
     ]
    }
   ],
   "source": [
    "print((1, 2, 3)+(4, 5, 6))\n"
   ]
  },
  {
   "cell_type": "code",
   "execution_count": 14,
   "id": "f91e0672",
   "metadata": {},
   "outputs": [
    {
     "name": "stdout",
     "output_type": "stream",
     "text": [
      "('Repeat', 'Repeat', 'Repeat')\n"
     ]
    }
   ],
   "source": [
    "print((\"Repeat\",)*3)"
   ]
  },
  {
   "cell_type": "code",
   "execution_count": 15,
   "id": "ef420169",
   "metadata": {},
   "outputs": [
    {
     "name": "stdout",
     "output_type": "stream",
     "text": [
      "2\n",
      "3\n"
     ]
    }
   ],
   "source": [
    "my_tuple = ('a', 'p', 'p', 'l', 'e')\n",
    "print(my_tuple.count('p'))\n",
    "print(my_tuple.index('l'))"
   ]
  },
  {
   "cell_type": "code",
   "execution_count": 14,
   "id": "f6a6e20d",
   "metadata": {},
   "outputs": [
    {
     "name": "stdout",
     "output_type": "stream",
     "text": [
      "Diagonal: (0, 0)\n",
      "Upper: (0, 1)\n",
      "Upper: (0, 2)\n",
      "Lower: (1, 0)\n",
      "Diagonal: (1, 1)\n",
      "Upper: (1, 2)\n",
      "Lower: (2, 0)\n",
      "Lower: (2, 1)\n",
      "Diagonal: (2, 2)\n"
     ]
    }
   ],
   "source": [
    "for i in range(3):\n",
    "    for j in range(3):\n",
    "        if i == j:\n",
    "            print(f\"Diagonal: ({i}, {j})\")\n",
    "        elif i > j:\n",
    "            print(f\"Lower: ({i}, {j})\")\n",
    "        else:\n",
    "            print(f\"Upper: ({i}, {j})\")"
   ]
  },
  {
   "cell_type": "code",
   "execution_count": null,
   "id": "0b894a2a",
   "metadata": {},
   "outputs": [],
   "source": []
  }
 ],
 "metadata": {
  "kernelspec": {
   "display_name": "Python 3",
   "language": "python",
   "name": "python3"
  },
  "language_info": {
   "codemirror_mode": {
    "name": "ipython",
    "version": 3
   },
   "file_extension": ".py",
   "mimetype": "text/x-python",
   "name": "python",
   "nbconvert_exporter": "python",
   "pygments_lexer": "ipython3",
   "version": "3.11.4"
  }
 },
 "nbformat": 4,
 "nbformat_minor": 5
}
